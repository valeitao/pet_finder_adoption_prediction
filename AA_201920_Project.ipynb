{
 "cells": [
  {
   "cell_type": "markdown",
   "metadata": {},
   "source": [
    "# Machine Learning / Aprendizagem Automática\n",
    "\n",
    "## Sara C. Madeira, 2019/20\n",
    "\n",
    "# ML Project  - Learning about Pet Adoption using PetFinder.my Dataset"
   ]
  },
  {
   "cell_type": "markdown",
   "metadata": {},
   "source": [
    "## Logistics\n",
    "\n",
    "**Students are encouraged to work in teams of 3 people**. \n",
    "\n",
    "Projects with smaller teams are allowed, in exceptional cases, but will not have better grades for this reason. \n",
    "\n",
    "The quality of the project will dictate its grade, not the number of people working.\n",
    "\n",
    "**The project's solution should be uploaded in Moodle before the end of December, 20th 2019 (last day before Christmas holidays).** \n",
    "\n",
    "Students should **upload a `.zip` file** containing all the files necessary for project evaluation. \n",
    "\n",
    "**It is mandatory to produce a Jupyter notebook containing code and text/images/tables/etc describing the solution and the results. The notebook is both the solution and the report.**\n",
    "\n",
    "**Decisions should be fundamented and results should be critically discussed.**"
   ]
  },
  {
   "cell_type": "markdown",
   "metadata": {},
   "source": [
    "## Tools\n",
    "\n",
    "The team should use [Python 3](https://www.python.org) and [Jupyter Notebook](http://jupyter.org), together with **[Scikit-learn](http://scikit-learn.org/stable/)**, **[Orange3](https://orange.biolab.si)**, or **both**.\n",
    "\n",
    "**[Orange3](https://orange.biolab.si)** can be used through its **[programmatic version](https://docs.orange.biolab.si/3/data-mining-library/)**, by importing and using its packages, or throught its **workflow version**. \n",
    "\n",
    "**It is up to the team to decide when to use Scikit-learn, Orange, or both.**\n",
    "\n",
    "In this context, your Jupyter notebook might have a mix of code, results, text explanations, workflow figures, etc. \n",
    "\n",
    "In case you use Orange/workflows for some tasks you should also deliver the workflow files and explain the options taken in each widget in your notebook.\n",
    "\n",
    "**You can use this noteboook and the sections below as example.**"
   ]
  },
  {
   "cell_type": "markdown",
   "metadata": {},
   "source": [
    "## Dataset\n",
    "\n",
    "The dataset to be analysed is **`PetFinder_dataset.csv`**, made avaliable together with this project description. This dataset, downloaded from [Kaggle](https://www.kaggle.com), contains selected data from the following competition: [PetFinder.my Adoption Prediction](https://www.kaggle.com/c/petfinder-adoption-prediction/). \n",
    "\n",
    "PetFinder.my has been Malaysia’s leading animal welfare platform since 2008, with a database of more than 150,000 animals. PetFinder collaborates closely with animal lovers, media, corporations, and global organizations to improve animal welfare. Animal adoption rates are strongly correlated to the metadata associated with their online profiles, such as descriptive text and photo characteristics. As one example, PetFinder is currently experimenting with a simple AI tool called the Cuteness Meter, which ranks how cute a pet is based on qualities present in their photos. In this competition data scientist are supposed to develop algorithms to predict the adoptability of pets - specifically, how quickly is a pet adopted? If successful, they will be adapted into AI tools that will guide shelters and rescuers around the world on improving their pet profiles' appeal, reducing animal suffering and euthanization. \n",
    "\n",
    "**In this project, your team is supposed to use only tabular data (not Images or Image Metadata) and see how far you can go in predicting and understanging PetFinder.my adoptions. You should use both supervised and unsupervised learning to tackled 2 tasks:**\n",
    "\n",
    "1. **Task 1 (Supervised Learning) - Predicting Adoption and Adoption Speed**\n",
    "2. **Task 2 (Unsupervised Learning) - Charactering Adopted Pets and Adoption Speed**\n",
    "\n",
    "The **`PetFinder_dataset.csv`** you should learn from has **14.993 instances** described by **24 data fields** that you might use as **categorical/numerical features** and matches the `train.csv` file made available for the competition (https://www.kaggle.com/c/petfinder-adoption-prediction/data). **The target in the original Kaggle challenge is `Adoption Speed`.**\n",
    "\n",
    "### File Descriptions\n",
    "\n",
    "* **PetFinder_dataset.csv** - Tabular/text data for the training set\n",
    "* **breed_labels.csv** - Contains Type, and BreedName for each BreedID. Type 1 is dog, 2 is cat.\n",
    "* **color_labels.csv** - Contains ColorName for each ColorID\n",
    "* **state_labels.csv** - Contains StateName for each StateID\n",
    "\n",
    "### Data Fields\n",
    "\n",
    "* **PetID** - Unique hash ID of pet profile\n",
    "* **Type** - Type of animal (1 = Dog, 2 = Cat)\n",
    "* **AdoptionSpeed - Categorical speed of adoption. Lower is faster.** This is the value to predict in the competition. See below section for more info.\n",
    "* **Name** - Name of pet (Empty if not named)\n",
    "* **Age** - Age of pet when listed, in months\n",
    "* **Breed1** - Primary breed of pet (see `BreedLabels.csv` for details)\n",
    "* **Breed2** - Secondary breed of pet, if pet is of mixed breed (Refer to BreedLabels dictionary)\n",
    "* **Gender** - Gender of pet (1 = Male, 2 = Female, 3 = Mixed, if profile represents group of pets)\n",
    "* **Color1** - Color 1 of pet (see `ColorLabel.csv` for details)\n",
    "* **Color2** - Color 2 of pet (see `ColorLabel.csv` for details)\n",
    "* **Color3** - Color 3 of pet (see `ColorLabel.csv` for details)\n",
    "* **MaturitySize** - Size at maturity (1 = Small, 2 = Medium, 3 = Large, 4 = Extra Large, 0 = Not Specified)\n",
    "* **FurLength** - Fur length (1 = Short, 2 = Medium, 3 = Long, 0 = Not Specified)\n",
    "* **Vaccinated** - Pet has been vaccinated (1 = Yes, 2 = No, 3 = Not Sure)\n",
    "* **Dewormed** - Pet has been dewormed (1 = Yes, 2 = No, 3 = Not Sure)\n",
    "* **Sterilized** - Pet has been spayed / neutered (1 = Yes, 2 = No, 3 = Not Sure)\n",
    "* **Health** - Health Condition (1 = Healthy, 2 = Minor Injury, 3 = Serious Injury, 0 = Not Specified)\n",
    "* **Quantity** - Number of pets represented in profile\n",
    "* **Fee** - Adoption fee (0 = Free)\n",
    "* **State** - State location in Malaysia (Refer to StateLabels dictionary)\n",
    "* **RescuerID** - Unique hash ID of rescuer\n",
    "* **VideoAmt** - Total uploaded videos for this pet\n",
    "* **PhotoAmt** - Total uploaded photos for this pet\n",
    "* **Description** - Profile write-up for this pet. The primary language used is English, with some in Malay or Chinese.\n",
    "\n",
    "### AdoptionSpeed\n",
    "\n",
    "The value of `AdoptionSpeed` describes how quickly, if at all, a pet is adopted:\n",
    "* 0 - Pet was adopted on the same day as it was listed. \n",
    "* 1 - Pet was adopted between 1 and 7 days (1st week) after being listed. \n",
    "* 2 - Pet was adopted between 8 and 30 days (1st month) after being listed. \n",
    "* 3 - Pet was adopted between 31 and 90 days (2nd & 3rd month) after being listed.\n",
    "* 4 - No adoption after 100 days of being listed. (There are no pets in this dataset that waited between 90 and 100 days).\n",
    "\n",
    "### **Important Notes on Data Cleaning and Preprocessing**\n",
    "\n",
    "   1. Data can contain **errors/typos**, whose correction might improve the analysis.\n",
    "   2. Some features can contain **many values**, whose grouping in categories (aggregation into bins) might improve the analysis.\n",
    "   3. Data can contain **missing values**, that you might decide to fill. You might also decide to eliminate instances/features with high percentages of missing values.\n",
    "   4. **Not all features are necessarily important** for the analysis.\n",
    "   5. Depending on the analysis, **some features might have to be excluded**.\n",
    "   6. Class distribution is an important characteristic of the dataset that should be checked. **Class imbalance** might impair machine learning.  \n",
    "  \n",
    "Some potentially useful links:\n",
    "\n",
    "* Data Cleaning and Preprocessing in Scikit-learn: https://scikit-learn.org/stable/modules/preprocessing.html#\n",
    "* Data Cleaning and Preprocessing in Orange: https://docs.biolab.si//3/visual-programming/widgets/data/preprocess.html\n",
    "* Dealing with imbalance datasets: https://pypi.org/project/imbalanced-learn/ and https://www.kaggle.com/rafjaa/resampling-strategies-for-imbalanced-datasets#t7"
   ]
  },
  {
   "cell_type": "markdown",
   "metadata": {},
   "source": [
    "## Task 0 (Know your Data) - Exploratory Data Analysis"
   ]
  },
  {
   "cell_type": "markdown",
   "metadata": {},
   "source": [
    "## 0.1. Loading Data"
   ]
  },
  {
   "cell_type": "code",
   "execution_count": 2,
   "metadata": {},
   "outputs": [],
   "source": [
    "import numpy as np\n",
    "import pandas as pd\n",
    "\n",
    "def load_data(fname):\n",
    "    \"\"\"Load CSV file with any number of consecutive features, starting in column 0, where last column is the class\"\"\"\n",
    "    df = pd.read_csv(fname)\n",
    "    nc = df.shape[1] # number of columns\n",
    "    matrix = df.values # Convert dataframe to darray\n",
    "    table_X = matrix [:, 0:nc-1] # get features ignoring adoption speed\n",
    "    table_y = matrix [:, nc-1] # get class (last columns)           \n",
    "    features = df.columns.values[0:nc-1] #get features names\n",
    "    target = df.columns.values[nc-1] #get target name\n",
    "    return df, table_X, table_y, features, target"
   ]
  },
  {
   "cell_type": "code",
   "execution_count": 3,
   "metadata": {},
   "outputs": [],
   "source": [
    "df, table_X, table_y, features, target = load_data(\"PetFinder_dataset.csv\")"
   ]
  },
  {
   "cell_type": "code",
   "execution_count": 4,
   "metadata": {},
   "outputs": [
    {
     "data": {
      "text/plain": [
       "array([2, 'Nibble', 3, 299, 0, 1, 1, 7, 0, 1, 1, 2, 2, 2, 1, 1, 100,\n",
       "       41326, '8480853f516546f6cf33aa88cd76c379', 0,\n",
       "       \"Nibble is a 3+ month old ball of cuteness. He is energetic and playful. I rescued a couple of cats a few months ago but could not get them neutered in time as the clinic was fully scheduled. The result was this little kitty. I do not have enough space and funds to care for more cats in my household. Looking for responsible people to take over Nibble's care.\",\n",
       "       '86e1089a3', 1.0], dtype=object)"
      ]
     },
     "execution_count": 4,
     "metadata": {},
     "output_type": "execute_result"
    }
   ],
   "source": [
    "table_X[0]"
   ]
  },
  {
   "cell_type": "code",
   "execution_count": 5,
   "metadata": {},
   "outputs": [
    {
     "data": {
      "text/plain": [
       "array(['Type', 'Name', 'Age', 'Breed1', 'Breed2', 'Gender', 'Color1',\n",
       "       'Color2', 'Color3', 'MaturitySize', 'FurLength', 'Vaccinated',\n",
       "       'Dewormed', 'Sterilized', 'Health', 'Quantity', 'Fee', 'State',\n",
       "       'RescuerID', 'VideoAmt', 'Description', 'PetID', 'PhotoAmt'],\n",
       "      dtype=object)"
      ]
     },
     "execution_count": 5,
     "metadata": {},
     "output_type": "execute_result"
    }
   ],
   "source": [
    "features"
   ]
  },
  {
   "cell_type": "code",
   "execution_count": 6,
   "metadata": {},
   "outputs": [
    {
     "data": {
      "text/html": [
       "<div>\n",
       "<style scoped>\n",
       "    .dataframe tbody tr th:only-of-type {\n",
       "        vertical-align: middle;\n",
       "    }\n",
       "\n",
       "    .dataframe tbody tr th {\n",
       "        vertical-align: top;\n",
       "    }\n",
       "\n",
       "    .dataframe thead th {\n",
       "        text-align: right;\n",
       "    }\n",
       "</style>\n",
       "<table border=\"1\" class=\"dataframe\">\n",
       "  <thead>\n",
       "    <tr style=\"text-align: right;\">\n",
       "      <th></th>\n",
       "      <th>Type</th>\n",
       "      <th>Name</th>\n",
       "      <th>Age</th>\n",
       "      <th>Breed1</th>\n",
       "      <th>Breed2</th>\n",
       "      <th>Gender</th>\n",
       "      <th>Color1</th>\n",
       "      <th>Color2</th>\n",
       "      <th>Color3</th>\n",
       "      <th>MaturitySize</th>\n",
       "      <th>...</th>\n",
       "      <th>Health</th>\n",
       "      <th>Quantity</th>\n",
       "      <th>Fee</th>\n",
       "      <th>State</th>\n",
       "      <th>RescuerID</th>\n",
       "      <th>VideoAmt</th>\n",
       "      <th>Description</th>\n",
       "      <th>PetID</th>\n",
       "      <th>PhotoAmt</th>\n",
       "      <th>AdoptionSpeed</th>\n",
       "    </tr>\n",
       "  </thead>\n",
       "  <tbody>\n",
       "    <tr>\n",
       "      <th>0</th>\n",
       "      <td>2</td>\n",
       "      <td>Nibble</td>\n",
       "      <td>3</td>\n",
       "      <td>299</td>\n",
       "      <td>0</td>\n",
       "      <td>1</td>\n",
       "      <td>1</td>\n",
       "      <td>7</td>\n",
       "      <td>0</td>\n",
       "      <td>1</td>\n",
       "      <td>...</td>\n",
       "      <td>1</td>\n",
       "      <td>1</td>\n",
       "      <td>100</td>\n",
       "      <td>41326</td>\n",
       "      <td>8480853f516546f6cf33aa88cd76c379</td>\n",
       "      <td>0</td>\n",
       "      <td>Nibble is a 3+ month old ball of cuteness. He ...</td>\n",
       "      <td>86e1089a3</td>\n",
       "      <td>1.0</td>\n",
       "      <td>2</td>\n",
       "    </tr>\n",
       "    <tr>\n",
       "      <th>1</th>\n",
       "      <td>2</td>\n",
       "      <td>No Name Yet</td>\n",
       "      <td>1</td>\n",
       "      <td>265</td>\n",
       "      <td>0</td>\n",
       "      <td>1</td>\n",
       "      <td>1</td>\n",
       "      <td>2</td>\n",
       "      <td>0</td>\n",
       "      <td>2</td>\n",
       "      <td>...</td>\n",
       "      <td>1</td>\n",
       "      <td>1</td>\n",
       "      <td>0</td>\n",
       "      <td>41401</td>\n",
       "      <td>3082c7125d8fb66f7dd4bff4192c8b14</td>\n",
       "      <td>0</td>\n",
       "      <td>I just found it alone yesterday near my apartm...</td>\n",
       "      <td>6296e909a</td>\n",
       "      <td>2.0</td>\n",
       "      <td>0</td>\n",
       "    </tr>\n",
       "    <tr>\n",
       "      <th>2</th>\n",
       "      <td>1</td>\n",
       "      <td>Brisco</td>\n",
       "      <td>1</td>\n",
       "      <td>307</td>\n",
       "      <td>0</td>\n",
       "      <td>1</td>\n",
       "      <td>2</td>\n",
       "      <td>7</td>\n",
       "      <td>0</td>\n",
       "      <td>2</td>\n",
       "      <td>...</td>\n",
       "      <td>1</td>\n",
       "      <td>1</td>\n",
       "      <td>0</td>\n",
       "      <td>41326</td>\n",
       "      <td>fa90fa5b1ee11c86938398b60abc32cb</td>\n",
       "      <td>0</td>\n",
       "      <td>Their pregnant mother was dumped by her irresp...</td>\n",
       "      <td>3422e4906</td>\n",
       "      <td>7.0</td>\n",
       "      <td>3</td>\n",
       "    </tr>\n",
       "    <tr>\n",
       "      <th>3</th>\n",
       "      <td>1</td>\n",
       "      <td>Miko</td>\n",
       "      <td>4</td>\n",
       "      <td>307</td>\n",
       "      <td>0</td>\n",
       "      <td>2</td>\n",
       "      <td>1</td>\n",
       "      <td>2</td>\n",
       "      <td>0</td>\n",
       "      <td>2</td>\n",
       "      <td>...</td>\n",
       "      <td>1</td>\n",
       "      <td>1</td>\n",
       "      <td>150</td>\n",
       "      <td>41401</td>\n",
       "      <td>9238e4f44c71a75282e62f7136c6b240</td>\n",
       "      <td>0</td>\n",
       "      <td>Good guard dog, very alert, active, obedience ...</td>\n",
       "      <td>5842f1ff5</td>\n",
       "      <td>8.0</td>\n",
       "      <td>2</td>\n",
       "    </tr>\n",
       "    <tr>\n",
       "      <th>4</th>\n",
       "      <td>1</td>\n",
       "      <td>Hunter</td>\n",
       "      <td>1</td>\n",
       "      <td>307</td>\n",
       "      <td>0</td>\n",
       "      <td>1</td>\n",
       "      <td>1</td>\n",
       "      <td>0</td>\n",
       "      <td>0</td>\n",
       "      <td>2</td>\n",
       "      <td>...</td>\n",
       "      <td>1</td>\n",
       "      <td>1</td>\n",
       "      <td>0</td>\n",
       "      <td>41326</td>\n",
       "      <td>95481e953f8aed9ec3d16fc4509537e8</td>\n",
       "      <td>0</td>\n",
       "      <td>This handsome yet cute boy is up for adoption....</td>\n",
       "      <td>850a43f90</td>\n",
       "      <td>3.0</td>\n",
       "      <td>2</td>\n",
       "    </tr>\n",
       "    <tr>\n",
       "      <th>...</th>\n",
       "      <td>...</td>\n",
       "      <td>...</td>\n",
       "      <td>...</td>\n",
       "      <td>...</td>\n",
       "      <td>...</td>\n",
       "      <td>...</td>\n",
       "      <td>...</td>\n",
       "      <td>...</td>\n",
       "      <td>...</td>\n",
       "      <td>...</td>\n",
       "      <td>...</td>\n",
       "      <td>...</td>\n",
       "      <td>...</td>\n",
       "      <td>...</td>\n",
       "      <td>...</td>\n",
       "      <td>...</td>\n",
       "      <td>...</td>\n",
       "      <td>...</td>\n",
       "      <td>...</td>\n",
       "      <td>...</td>\n",
       "      <td>...</td>\n",
       "    </tr>\n",
       "    <tr>\n",
       "      <th>14988</th>\n",
       "      <td>2</td>\n",
       "      <td>NaN</td>\n",
       "      <td>2</td>\n",
       "      <td>266</td>\n",
       "      <td>0</td>\n",
       "      <td>3</td>\n",
       "      <td>1</td>\n",
       "      <td>0</td>\n",
       "      <td>0</td>\n",
       "      <td>2</td>\n",
       "      <td>...</td>\n",
       "      <td>1</td>\n",
       "      <td>4</td>\n",
       "      <td>0</td>\n",
       "      <td>41326</td>\n",
       "      <td>61c84bd7bcb6fb31d2d480b1bcf9682e</td>\n",
       "      <td>0</td>\n",
       "      <td>I have 4 kittens that need to be adopt urgentl...</td>\n",
       "      <td>dc0935a84</td>\n",
       "      <td>3.0</td>\n",
       "      <td>2</td>\n",
       "    </tr>\n",
       "    <tr>\n",
       "      <th>14989</th>\n",
       "      <td>2</td>\n",
       "      <td>Serato &amp; Eddie</td>\n",
       "      <td>60</td>\n",
       "      <td>265</td>\n",
       "      <td>264</td>\n",
       "      <td>3</td>\n",
       "      <td>1</td>\n",
       "      <td>4</td>\n",
       "      <td>7</td>\n",
       "      <td>2</td>\n",
       "      <td>...</td>\n",
       "      <td>1</td>\n",
       "      <td>2</td>\n",
       "      <td>0</td>\n",
       "      <td>41326</td>\n",
       "      <td>1d5096c4a5e159a3b750c5cfcf6ceabf</td>\n",
       "      <td>0</td>\n",
       "      <td>Serato(female cat- 3 color) is 4 years old and...</td>\n",
       "      <td>a01ab5b30</td>\n",
       "      <td>3.0</td>\n",
       "      <td>4</td>\n",
       "    </tr>\n",
       "    <tr>\n",
       "      <th>14990</th>\n",
       "      <td>2</td>\n",
       "      <td>Monkies</td>\n",
       "      <td>2</td>\n",
       "      <td>265</td>\n",
       "      <td>266</td>\n",
       "      <td>3</td>\n",
       "      <td>5</td>\n",
       "      <td>6</td>\n",
       "      <td>7</td>\n",
       "      <td>3</td>\n",
       "      <td>...</td>\n",
       "      <td>1</td>\n",
       "      <td>5</td>\n",
       "      <td>30</td>\n",
       "      <td>41326</td>\n",
       "      <td>6f40a7acfad5cc0bb3e44591ea446c05</td>\n",
       "      <td>0</td>\n",
       "      <td>Mix breed, good temperament kittens. Love huma...</td>\n",
       "      <td>d981b6395</td>\n",
       "      <td>5.0</td>\n",
       "      <td>3</td>\n",
       "    </tr>\n",
       "    <tr>\n",
       "      <th>14991</th>\n",
       "      <td>2</td>\n",
       "      <td>Ms Daym</td>\n",
       "      <td>9</td>\n",
       "      <td>266</td>\n",
       "      <td>0</td>\n",
       "      <td>2</td>\n",
       "      <td>4</td>\n",
       "      <td>7</td>\n",
       "      <td>0</td>\n",
       "      <td>1</td>\n",
       "      <td>...</td>\n",
       "      <td>1</td>\n",
       "      <td>1</td>\n",
       "      <td>0</td>\n",
       "      <td>41336</td>\n",
       "      <td>c311c0c569245baa147d91fa4e351ae4</td>\n",
       "      <td>0</td>\n",
       "      <td>she is very shy..adventures and independent..s...</td>\n",
       "      <td>e4da1c9e4</td>\n",
       "      <td>3.0</td>\n",
       "      <td>4</td>\n",
       "    </tr>\n",
       "    <tr>\n",
       "      <th>14992</th>\n",
       "      <td>1</td>\n",
       "      <td>Fili</td>\n",
       "      <td>1</td>\n",
       "      <td>307</td>\n",
       "      <td>307</td>\n",
       "      <td>1</td>\n",
       "      <td>2</td>\n",
       "      <td>0</td>\n",
       "      <td>0</td>\n",
       "      <td>2</td>\n",
       "      <td>...</td>\n",
       "      <td>1</td>\n",
       "      <td>1</td>\n",
       "      <td>0</td>\n",
       "      <td>41332</td>\n",
       "      <td>9ed1d5493d223eaa5024c1a031dbc9c2</td>\n",
       "      <td>0</td>\n",
       "      <td>Fili just loves laying around and also loves b...</td>\n",
       "      <td>a83d95ead</td>\n",
       "      <td>1.0</td>\n",
       "      <td>3</td>\n",
       "    </tr>\n",
       "  </tbody>\n",
       "</table>\n",
       "<p>14993 rows × 24 columns</p>\n",
       "</div>"
      ],
      "text/plain": [
       "       Type            Name  Age  Breed1  Breed2  Gender  Color1  Color2  \\\n",
       "0         2          Nibble    3     299       0       1       1       7   \n",
       "1         2     No Name Yet    1     265       0       1       1       2   \n",
       "2         1          Brisco    1     307       0       1       2       7   \n",
       "3         1            Miko    4     307       0       2       1       2   \n",
       "4         1          Hunter    1     307       0       1       1       0   \n",
       "...     ...             ...  ...     ...     ...     ...     ...     ...   \n",
       "14988     2             NaN    2     266       0       3       1       0   \n",
       "14989     2  Serato & Eddie   60     265     264       3       1       4   \n",
       "14990     2         Monkies    2     265     266       3       5       6   \n",
       "14991     2         Ms Daym    9     266       0       2       4       7   \n",
       "14992     1            Fili    1     307     307       1       2       0   \n",
       "\n",
       "       Color3  MaturitySize  ...  Health  Quantity  Fee  State  \\\n",
       "0           0             1  ...       1         1  100  41326   \n",
       "1           0             2  ...       1         1    0  41401   \n",
       "2           0             2  ...       1         1    0  41326   \n",
       "3           0             2  ...       1         1  150  41401   \n",
       "4           0             2  ...       1         1    0  41326   \n",
       "...       ...           ...  ...     ...       ...  ...    ...   \n",
       "14988       0             2  ...       1         4    0  41326   \n",
       "14989       7             2  ...       1         2    0  41326   \n",
       "14990       7             3  ...       1         5   30  41326   \n",
       "14991       0             1  ...       1         1    0  41336   \n",
       "14992       0             2  ...       1         1    0  41332   \n",
       "\n",
       "                              RescuerID  VideoAmt  \\\n",
       "0      8480853f516546f6cf33aa88cd76c379         0   \n",
       "1      3082c7125d8fb66f7dd4bff4192c8b14         0   \n",
       "2      fa90fa5b1ee11c86938398b60abc32cb         0   \n",
       "3      9238e4f44c71a75282e62f7136c6b240         0   \n",
       "4      95481e953f8aed9ec3d16fc4509537e8         0   \n",
       "...                                 ...       ...   \n",
       "14988  61c84bd7bcb6fb31d2d480b1bcf9682e         0   \n",
       "14989  1d5096c4a5e159a3b750c5cfcf6ceabf         0   \n",
       "14990  6f40a7acfad5cc0bb3e44591ea446c05         0   \n",
       "14991  c311c0c569245baa147d91fa4e351ae4         0   \n",
       "14992  9ed1d5493d223eaa5024c1a031dbc9c2         0   \n",
       "\n",
       "                                             Description      PetID PhotoAmt  \\\n",
       "0      Nibble is a 3+ month old ball of cuteness. He ...  86e1089a3      1.0   \n",
       "1      I just found it alone yesterday near my apartm...  6296e909a      2.0   \n",
       "2      Their pregnant mother was dumped by her irresp...  3422e4906      7.0   \n",
       "3      Good guard dog, very alert, active, obedience ...  5842f1ff5      8.0   \n",
       "4      This handsome yet cute boy is up for adoption....  850a43f90      3.0   \n",
       "...                                                  ...        ...      ...   \n",
       "14988  I have 4 kittens that need to be adopt urgentl...  dc0935a84      3.0   \n",
       "14989  Serato(female cat- 3 color) is 4 years old and...  a01ab5b30      3.0   \n",
       "14990  Mix breed, good temperament kittens. Love huma...  d981b6395      5.0   \n",
       "14991  she is very shy..adventures and independent..s...  e4da1c9e4      3.0   \n",
       "14992  Fili just loves laying around and also loves b...  a83d95ead      1.0   \n",
       "\n",
       "       AdoptionSpeed  \n",
       "0                  2  \n",
       "1                  0  \n",
       "2                  3  \n",
       "3                  2  \n",
       "4                  2  \n",
       "...              ...  \n",
       "14988              2  \n",
       "14989              4  \n",
       "14990              3  \n",
       "14991              4  \n",
       "14992              3  \n",
       "\n",
       "[14993 rows x 24 columns]"
      ]
     },
     "execution_count": 6,
     "metadata": {},
     "output_type": "execute_result"
    }
   ],
   "source": [
    "df"
   ]
  },
  {
   "cell_type": "markdown",
   "metadata": {},
   "source": [
    "## 0.2. Understanding Data"
   ]
  },
  {
   "cell_type": "markdown",
   "metadata": {},
   "source": [
    "In this task you should **understand better the features**, their distribution of values, potential errors, etc and plan/describe what data preprocessing steps should be performed next. Very important also is the distribution of values in the target (class distribution). \n",
    "\n",
    "Here you can find a notebook with some examples of what you can do in **Exploratory Data Analysis**: https://www.kaggle.com/artgor/exploration-of-data-step-by-step/notebook. You can also use Orange widgets for this."
   ]
  },
  {
   "cell_type": "code",
   "execution_count": 7,
   "metadata": {},
   "outputs": [
    {
     "name": "stdout",
     "output_type": "stream",
     "text": [
      "<class 'pandas.core.frame.DataFrame'>\n",
      "RangeIndex: 14993 entries, 0 to 14992\n",
      "Data columns (total 24 columns):\n",
      "Type             14993 non-null int64\n",
      "Name             13736 non-null object\n",
      "Age              14993 non-null int64\n",
      "Breed1           14993 non-null int64\n",
      "Breed2           14993 non-null int64\n",
      "Gender           14993 non-null int64\n",
      "Color1           14993 non-null int64\n",
      "Color2           14993 non-null int64\n",
      "Color3           14993 non-null int64\n",
      "MaturitySize     14993 non-null int64\n",
      "FurLength        14993 non-null int64\n",
      "Vaccinated       14993 non-null int64\n",
      "Dewormed         14993 non-null int64\n",
      "Sterilized       14993 non-null int64\n",
      "Health           14993 non-null int64\n",
      "Quantity         14993 non-null int64\n",
      "Fee              14993 non-null int64\n",
      "State            14993 non-null int64\n",
      "RescuerID        14993 non-null object\n",
      "VideoAmt         14993 non-null int64\n",
      "Description      14981 non-null object\n",
      "PetID            14993 non-null object\n",
      "PhotoAmt         14993 non-null float64\n",
      "AdoptionSpeed    14993 non-null int64\n",
      "dtypes: float64(1), int64(19), object(4)\n",
      "memory usage: 2.7+ MB\n",
      "None\n"
     ]
    }
   ],
   "source": [
    "print(df.info())"
   ]
  },
  {
   "cell_type": "code",
   "execution_count": 8,
   "metadata": {},
   "outputs": [],
   "source": [
    "#Dropping the description: need to check if we are going to analyze it\n",
    "#df.drop(['Description'], axis=1)"
   ]
  },
  {
   "cell_type": "markdown",
   "metadata": {},
   "source": [
    "**Análise Exploratória - AdoptionSpeed**:\n",
    "\n",
    "A partir dos dados recolhidos, a primeira análise foi feita relativamente ao target AdoptionSpeed. Pode-se verificar que muito poucos pets são adoptados no mesmo dia de listagem. Uma grande parte dos mesmos não chega sequer a ser adoptada (correspondentes ao valor AdoptionSpeed = 4)."
   ]
  },
  {
   "cell_type": "code",
   "execution_count": 9,
   "metadata": {
    "scrolled": true
   },
   "outputs": [
    {
     "name": "stdout",
     "output_type": "stream",
     "text": [
      "Adoption speed = 0 - Number of pets: 410\n",
      "Adoption speed = 1 - Number of pets: 3090\n",
      "Adoption speed = 2 - Number of pets: 4037\n",
      "Adoption speed = 3 - Number of pets: 3259\n",
      "Adoption speed = 4 - Number of pets: 4197\n"
     ]
    }
   ],
   "source": [
    "import numpy as np\n",
    "import matplotlib.pyplot as plt\n",
    "import seaborn as sns \n",
    "\n",
    "plt.figure(figsize=(10, 4));\n",
    "g = sns.countplot(x='AdoptionSpeed', data=df);\n",
    "plt.title('Adoption speed classes count');\n",
    "ax=g.axes\n",
    "\n",
    "for i in range(5):\n",
    "    score = (np.sum(df['AdoptionSpeed'] == i))\n",
    "    print(\"Adoption speed = {} - Number of pets: {}\".format(i, score))\n",
    "\n"
   ]
  },
  {
   "cell_type": "markdown",
   "metadata": {},
   "source": [
    "**Análise Exploratória - Gatos/Cães, e taxas de adopção por animal**\n"
   ]
  },
  {
   "cell_type": "code",
   "execution_count": 10,
   "metadata": {},
   "outputs": [
    {
     "name": "stdout",
     "output_type": "stream",
     "text": [
      "Number of dogs: 8132\n",
      "Number of cats: 6861\n"
     ]
    },
    {
     "data": {
      "image/png": "[encoded data removed]",
      "text/plain": [
       "<Figure size 432x216 with 1 Axes>"
      ]
     },
     "metadata": {
      "needs_background": "light"
     },
     "output_type": "display_data"
    }
   ],
   "source": [
    "print(\"Number of dogs: {}\".format((np.sum(df['Type'] == 1)),))\n",
    "print(\"Number of cats: {}\".format((np.sum(df['Type'] == 2)),))\n",
    "\n",
    "plt.figure(figsize=(6, 3));\n",
    "sns.countplot(x='Type', data=df);\n",
    "plt.title('Number of cats and dogs in train and test data');"
   ]
  },
  {
   "cell_type": "code",
   "execution_count": 11,
   "metadata": {},
   "outputs": [
    {
     "data": {
      "image/png": "[encoded data removed]",
      "text/plain": [
       "<Figure size 1296x576 with 1 Axes>"
      ]
     },
     "metadata": {
      "needs_background": "light"
     },
     "output_type": "display_data"
    }
   ],
   "source": [
    "main_count = df['AdoptionSpeed'].value_counts(normalize=True).sort_index()\n",
    "\n",
    "\"\"\"\n",
    "    FROM KAGGLE TUTORIAL:\n",
    "    Preparing dictionary with data for plotting.\n",
    "    \n",
    "    I want to show how much higher/lower are the rates of Adoption speed for the current column comparing to base values (as described higher),\n",
    "    At first I calculate base rates, then for each category in the column I calculate rates of Adoption speed and find difference with the base rates.  \n",
    "\"\"\"\n",
    "def prepare_plot_dict(df, col, main_count):\n",
    "    main_count = dict(main_count)\n",
    "    plot_dict = {}\n",
    "    for i in df[col].unique():\n",
    "        val_count = dict(df.loc[df[col] == i, 'AdoptionSpeed'].value_counts().sort_index())\n",
    "\n",
    "        for k, v in main_count.items():\n",
    "            if k in val_count:\n",
    "                plot_dict[val_count[k]] = ((val_count[k] / sum(val_count.values())) / main_count[k]) * 100 - 100\n",
    "            else:\n",
    "                plot_dict[0] = 0\n",
    "\n",
    "    return plot_dict\n",
    "\n",
    "\"\"\"\n",
    "    FROM KAGGLE TUTORIAL:\n",
    "    Plotting countplot with correct annotations.\n",
    "\"\"\"\n",
    "def make_count_plot(df, x, hue='AdoptionSpeed', title='', main_count=main_count):\n",
    "    g = sns.countplot(x=x, data=df, hue=hue);\n",
    "    plt.title(f'AdoptionSpeed {title}');\n",
    "    ax = g.axes\n",
    "\n",
    "    plot_dict = prepare_plot_dict(df, x, main_count)\n",
    "\n",
    "    for p in ax.patches:\n",
    "        h = p.get_height() if str(p.get_height()) != 'nan' else 0\n",
    "        text = f\"{plot_dict[h]:.0f}%\" if plot_dict[h] < 0 else f\"+{plot_dict[h]:.0f}%\"\n",
    "        ax.annotate(text, (p.get_x() + p.get_width() / 2., h),\n",
    "             ha='center', va='center', fontsize=11, color='green' if plot_dict[h] > 0 else 'red', rotation=0, xytext=(0, 10),\n",
    "             textcoords='offset points')\n",
    "        \n",
    "plt.figure(figsize=(18, 8));\n",
    "make_count_plot(df, x='Type', title='by pet Type')"
   ]
  },
  {
   "cell_type": "markdown",
   "metadata": {},
   "source": [
    "Dado o gráfico acima, é possível verificar que, em comparação com os valores base de adoção, que:\n",
    "\n",
    "   * Cães (type = 2) têm **maior probabilidade de adopção mais perto da data de registo do animal**, dado que para AdoptionSpeed = 0, o valor é 28% acima dos valores base no dataset. Além disso, comparadamente aos gatos, a probabilidade de não serem adoptados é menor (-7%, AdoptionSpeed = 4) sobre os valores base de adopção.\n",
    "    \n",
    "   * Em termos contrários, **os gatos tendem a demorar a ser adoptados** (type = 1), dado que para AdoptionSpeed = {0, 1, 2}, as percentagens são menores, enquanto que para AdoptionSpeed = {3, 4} são maiores que os valores base de adopção.\n",
    "    "
   ]
  },
  {
   "cell_type": "markdown",
   "metadata": {},
   "source": [
    "**Análise Exploratória - Nome**"
   ]
  },
  {
   "cell_type": "code",
   "execution_count": 33,
   "metadata": {},
   "outputs": [
    {
     "name": "stdout",
     "output_type": "stream",
     "text": [
      "Baby\n",
      "0     2\n",
      "1    11\n",
      "2    15\n",
      "3    11\n",
      "4    27\n",
      "Name: AdoptionSpeed, dtype: int64\n",
      "\n",
      "Lucky\n",
      "0     5\n",
      "1    14\n",
      "2    16\n",
      "3    12\n",
      "4    17\n",
      "Name: AdoptionSpeed, dtype: int64\n",
      "\n",
      "No Name\n",
      "0     3\n",
      "1    14\n",
      "2    11\n",
      "3     6\n",
      "4    20\n",
      "Name: AdoptionSpeed, dtype: int64\n",
      "\n",
      "Brownie\n",
      "0     1\n",
      "1    11\n",
      "2    14\n",
      "3    12\n",
      "4    16\n",
      "Name: AdoptionSpeed, dtype: int64\n",
      "\n",
      "Mimi\n",
      "0     3\n",
      "1    12\n",
      "2    13\n",
      "3     7\n",
      "4    17\n",
      "Name: AdoptionSpeed, dtype: int64\n",
      "\n",
      "Blackie\n",
      "0     1\n",
      "1    12\n",
      "2    15\n",
      "3     9\n",
      "4    12\n",
      "Name: AdoptionSpeed, dtype: int64\n",
      "\n",
      "Puppy\n",
      "0     1\n",
      "1     7\n",
      "2     7\n",
      "3    11\n",
      "4    19\n",
      "Name: AdoptionSpeed, dtype: int64\n",
      "\n",
      "Kitty\n",
      "0     1\n",
      "1    13\n",
      "2     8\n",
      "3     8\n",
      "4     9\n",
      "Name: AdoptionSpeed, dtype: int64\n",
      "\n",
      "Kittens\n",
      "1     8\n",
      "2    13\n",
      "3     5\n",
      "4    13\n",
      "Name: AdoptionSpeed, dtype: int64\n",
      "\n",
      "Max\n",
      "1     9\n",
      "2    10\n",
      "3     9\n",
      "4    11\n",
      "Name: AdoptionSpeed, dtype: int64\n",
      "\n"
     ]
    }
   ],
   "source": [
    "#Verificacao dos 10 nomes com mais animais registadso\n",
    "main_count = df['Name'].value_counts().index[:10]\n",
    "main_count\n",
    "\n",
    "for n in df['Name'].value_counts().index[:10]:\n",
    "    print(n)\n",
    "    print(df.loc[df['Name'] == n, 'AdoptionSpeed'].value_counts().sort_index())\n",
    "    print('')"
   ]
  },
  {
   "cell_type": "markdown",
   "metadata": {},
   "source": [
    "O nome 'No Name' é o **terceiro mais registado**...e não é propriamente um nome. Existirão mais \"nomes\" que se relacionam com animais sem um nome registado, por exemplo 'No Name Yet'."
   ]
  },
  {
   "cell_type": "code",
   "execution_count": 34,
   "metadata": {},
   "outputs": [
    {
     "name": "stdout",
     "output_type": "stream",
     "text": [
      "0    1\n",
      "1    5\n",
      "2    9\n",
      "3    4\n",
      "4    3\n",
      "Name: AdoptionSpeed, dtype: int64\n"
     ]
    }
   ],
   "source": [
    "print(df.loc[df['Name'] == 'No Name Yet', 'AdoptionSpeed'].value_counts().sort_index())"
   ]
  },
  {
   "cell_type": "code",
   "execution_count": 49,
   "metadata": {},
   "outputs": [
    {
     "name": "stdout",
     "output_type": "stream",
     "text": [
      "Unnamed animals: 1338\n",
      "0     30\n",
      "1    290\n",
      "2    333\n",
      "3    228\n",
      "4    457\n",
      "Name: AdoptionSpeed, dtype: int64\n"
     ]
    },
    {
     "data": {
      "image/png": "[encoded data removed]",
      "text/plain": [
       "<Figure size 720x576 with 1 Axes>"
      ]
     },
     "metadata": {
      "needs_background": "light"
     },
     "output_type": "display_data"
    }
   ],
   "source": [
    "df['Name'] = df['Name'].fillna('No Name Yet')\n",
    "df.loc[df['Name'] == 'No Name', 'Name'] = 'No Name Yet'\n",
    "df.loc[df['Name'] == 'Unnamed', 'Name'] = 'No Name Yet'\n",
    "print('Unnamed animals: {}'.format(df[df['Name'] == 'No Name Yet'].shape[0]))\n",
    "print(df.loc[df['Name'] == 'No Name Yet', 'AdoptionSpeed'].value_counts().sort_index())\n",
    "\n",
    "#Unnamed = 0 >>>>> Animal tem nome\n",
    "df['Unnamed'] = 0\n",
    "df.loc[df['Name'] == 'No Name Yet', 'Unnamed'] = 1\n",
    "\n",
    "plt.figure(figsize=(10, 8));\n",
    "make_count_plot(df, x='Unnamed', title='e ter um nome registado')"
   ]
  },
  {
   "cell_type": "markdown",
   "metadata": {},
   "source": [
    "O facto dos animais não terem o nome implica que haja uma redução no número de adopções: \n",
    "\n",
    "Para **AdoptionSpeed = 0**, ocorre um decréscimo de 18% relativos ao valor base de adopção dos animais registados, enquanto que para **AdoptionSpeed = 4**, há um acréscimo de 22% relativos a esse valor base.\n",
    "\n",
    "Além disso, muitos do nomes apenas correspondem a siglas ou números, o que também pode influenciar os valores de adopção."
   ]
  },
  {
   "cell_type": "code",
   "execution_count": 51,
   "metadata": {},
   "outputs": [
    {
     "data": {
      "text/plain": [
       "array(['H3', 'Z3', 'C', 'BB', 'QQ', 'Y1', 'H1', 'D9', 'Y4', 'Z4', 'DD',\n",
       "       'M2', 'H6', 'D4', 'JJ', 'F1', 'W7', '1F', 'Q1', '6', 'CJ', '3F',\n",
       "       'KD', 'G1', 'B3', 'Cc', 'F6', 'Mk', 'A5', 'GM', 'D5', 'EE', 'A4',\n",
       "       'Q4', 'B', 'CC', 'Y7', 'W6', 'A3', 'A1', 'T1', 'W1', 'M4', 'P5',\n",
       "       'H2', 'GG', 'Y6', 'Z', 'D7', 'B4', 'C2', 'M8', '3', 'G2', 'ML',\n",
       "       'DJ', 'PP', '8', 'OJ', 'D', 'F2', 'MJ', 'W8', 'W4', 'C1', 'W2',\n",
       "       'GR', 'B1', '5', 'Fa', 'Y5', 'M', 'F5', 'Y0', 'B2', 'Q6', 'G3',\n",
       "       '..', 'S1', 'Qu', 'R9', 'W3', 'R7', 'Tj', 'P3', '7', '!', 'RC',\n",
       "       'Z2', 'Q3', 'A2', 'QD', 'S', '-', 'R6', 'IV', 'Mo', 'W5', 'F8',\n",
       "       'M6', 'M9', 'Py', 'Rt', 'F9', 'P6', 'AJ', 'Y3', 'D6', 'T2', 'F4',\n",
       "       'T3', 'YY', '99', 'F7', 'W+', 'D2', '1', '#1', 'S4', '2', 'Am',\n",
       "       'P', 'P4', 'R5', 'M3', 'R3', 'JD', 'BJ', 'L', 'KC', 'VV', 'M1',\n",
       "       '!.', 'V6', 'P1', 'J', 'S3', 'A6', 'Cq', 'M5', 'B5', 'J1', 'O',\n",
       "       '2F', 'Q2', 'Y2', 'AB', 'A', 'Jo', 'ET', 'A9', 'ST', 'Po', 'KK',\n",
       "       'H8', 'Z1', 'H5', 'S2', 'R2', 'F3', 'H7', 'Q7', 'Q5', 'PJ', 'KT',\n",
       "       'H4'], dtype=object)"
      ]
     },
     "execution_count": 51,
     "metadata": {},
     "output_type": "execute_result"
    }
   ],
   "source": [
    "df[df['Name'].apply(lambda x: len(str(x))) < 3]['Name'].unique()"
   ]
  },
  {
   "cell_type": "markdown",
   "metadata": {},
   "source": [
    "Como o número de animais com poucos caracteres é relativamente baixo, é díficil conseguir definir uma relação sólida entre essa feature que poderia ser criada e o AdoptionSpeed, então vai ser descartada."
   ]
  },
  {
   "cell_type": "code",
   "execution_count": 61,
   "metadata": {},
   "outputs": [
    {
     "name": "stdout",
     "output_type": "stream",
     "text": [
      "Verificacao de nomes curtos e da influencia sobre o AdoptionSpeed do animal:\n",
      "0     4\n",
      "1    48\n",
      "2    61\n",
      "3    71\n",
      "4    32\n",
      "Name: AdoptionSpeed, dtype: int64\n"
     ]
    },
    {
     "data": {
      "image/png": "[encoded data removed]",
      "text/plain": [
       "<Figure size 720x576 with 1 Axes>"
      ]
     },
     "metadata": {
      "needs_background": "light"
     },
     "output_type": "display_data"
    }
   ],
   "source": [
    "df['ShortName'] = 0\n",
    "df.loc[df['Name'].apply(lambda x: len(str(x))) < 3, 'ShortName'] = 1\n",
    "\n",
    "print('Verificacao de nomes curtos e da influencia sobre o AdoptionSpeed do animal:')\n",
    "print(df.loc[df['ShortName'] == 1, 'AdoptionSpeed'].value_counts().sort_index())\n",
    "\n",
    "\n",
    "plt.figure(figsize=(10, 8));\n",
    "make_count_plot(df, x='ShortName', title='e ter nomes curtos (abaixo de 3 caracteres)')\n"
   ]
  },
  {
   "cell_type": "code",
   "execution_count": 73,
   "metadata": {},
   "outputs": [],
   "source": [
    "#df.drop(columns='ShortName')\n",
    "\n",
    "#Order DataFrame with the Unnamed column\n",
    "df = df[['Type','Name','Unnamed','Age','Breed1','Breed2','Gender',\n",
    " 'Color1','Color2','Color3','MaturitySize','FurLength','Vaccinated',\n",
    " 'Dewormed','Sterilized','Health','Quantity','Fee','State',\n",
    " 'RescuerID','VideoAmt','Description','PetID',\n",
    " 'PhotoAmt','AdoptionSpeed']]"
   ]
  },
  {
   "cell_type": "markdown",
   "metadata": {},
   "source": [
    "Também existem muitos animais registados que contêm caracteres especiais. Para efeitos de análise, consideram-se caracteres especiais aqueles que não pertencem a:\n",
    "    * A-Z\n",
    "    * 0-9\n",
    "    * Caracteres {,&+}, dado que estes implicam que são registos com mais que um animal\n",
    "    \n",
    "Por exemplo, Ã©Â»Â‘Ã©Â»Â‘ Hei Hei é um nome com caracteres especiais, enquanto que Alberto não tem qualquer especial."
   ]
  },
  {
   "cell_type": "code",
   "execution_count": null,
   "metadata": {},
   "outputs": [],
   "source": [
    "df['SpecialName'] = 0\n",
    "df.loc[df['Name'].apply(lambda x: len(str(x))) < 3, 'ShortName'] = 1"
   ]
  },
  {
   "cell_type": "markdown",
   "metadata": {},
   "source": [
    "## Task 1 (Supervised Learning) - Predicting Adoption and Adoption Speed\n",
    "\n",
    "In this task you should target 3 classification tasks:\n",
    "1. **Predicting  Adoption (binary classification task)**: create a new target from AdoptionSpeed that is 1 if AdoptionSpeed <> 4 and 0 otherwise.\n",
    "2. **Predicting AdoptionSpeed (multiclass classification)**: in this task you should you the original target AdoptionSpeed, whose values are in the set {0, 1, 2, 3 , 4} (5 classes). This is a very difficult problem. You might also want to consider 3 classes (for instance {0-1, 2-3, 4}, or other sets that make sense). \n",
    "3. **Train specialized models for cats and dogs**: train with cat/dog instances and check whether the classification performance changes when Predicting Adoption and Predicting AdoptionSpeed."
   ]
  },
  {
   "cell_type": "markdown",
   "metadata": {},
   "source": [
    "**You should:**\n",
    "\n",
    "* Choose **one classifier in each category**: Tree models, Rule models, Linear models, Distance-based models, and Probabilistic models.\n",
    "* Use cross-validation to evaluate the results. \n",
    "* Present and discuss the results for different evaluation measures, present confusion matrices. Remember that not only overall results are important. Check what happens when learning to predict each class.\n",
    "* Describe the parameters used for each classifier and how their choice impacted or not the results.\n",
    "* Choose the best classifier and fundament you choice.\n",
    "* **Discuss critically your choices and the results!**"
   ]
  },
  {
   "cell_type": "markdown",
   "metadata": {},
   "source": [
    "## 1.1. Preprocessing Data for Classification"
   ]
  },
  {
   "cell_type": "raw",
   "metadata": {},
   "source": []
  },
  {
   "cell_type": "markdown",
   "metadata": {},
   "source": [
    "## 1.2. Learning Classifiers"
   ]
  },
  {
   "cell_type": "markdown",
   "metadata": {},
   "source": [
    "..."
   ]
  },
  {
   "cell_type": "markdown",
   "metadata": {},
   "source": [
    "## 1.3. Classification - Results and Discussion "
   ]
  },
  {
   "cell_type": "markdown",
   "metadata": {},
   "source": [
    "..."
   ]
  },
  {
   "cell_type": "markdown",
   "metadata": {},
   "source": [
    "## Task 2 (Unsupervised Learning) - Charactering Adopted Pets and Adoption Speed"
   ]
  },
  {
   "cell_type": "markdown",
   "metadata": {},
   "source": [
    "In this task you should **use unsupervised learning algorithms and try to characterize pets that were actually adopted and their adoption speed**. You can use:\n",
    "* **Association rule mining** to find **associations between the features and the target Adoption/AdoptionSpeed**.\n",
    "* **Clustering algorithms to find similar groups of pets**. Is it possible to find groups of pets with the same/similar adoption speed.\n",
    "* **Be creative and define your own unsupervised analysis!** What would it be interesting to find out ?"
   ]
  },
  {
   "cell_type": "markdown",
   "metadata": {},
   "source": [
    "## 2.1. Preprocessing Data for Association Rule Mining"
   ]
  },
  {
   "cell_type": "markdown",
   "metadata": {},
   "source": [
    "..."
   ]
  },
  {
   "cell_type": "markdown",
   "metadata": {},
   "source": [
    "## 2.2. Finding Associations"
   ]
  },
  {
   "cell_type": "markdown",
   "metadata": {},
   "source": [
    "..."
   ]
  },
  {
   "cell_type": "markdown",
   "metadata": {},
   "source": [
    "## 2.3 Association Rules - Results and Discussion "
   ]
  },
  {
   "cell_type": "markdown",
   "metadata": {},
   "source": [
    "..."
   ]
  },
  {
   "cell_type": "markdown",
   "metadata": {},
   "source": [
    "## 2.4. Preprocessing Data for Clustering"
   ]
  },
  {
   "cell_type": "markdown",
   "metadata": {},
   "source": [
    "..."
   ]
  },
  {
   "cell_type": "markdown",
   "metadata": {
    "collapsed": true
   },
   "source": [
    "## 2.5. Finding Groups"
   ]
  },
  {
   "cell_type": "markdown",
   "metadata": {},
   "source": [
    "..."
   ]
  },
  {
   "cell_type": "markdown",
   "metadata": {},
   "source": [
    "## 2.6. Clustering - Results and Discussion "
   ]
  },
  {
   "cell_type": "markdown",
   "metadata": {},
   "source": [
    "..."
   ]
  },
  {
   "cell_type": "markdown",
   "metadata": {},
   "source": [
    "## 3. Final Comments and Conclusions"
   ]
  },
  {
   "cell_type": "markdown",
   "metadata": {},
   "source": [
    "..."
   ]
  }
 ],
 "metadata": {
  "kernelspec": {
   "display_name": "Python 3",
   "language": "python",
   "name": "python3"
  },
  "language_info": {
   "codemirror_mode": {
    "name": "ipython",
    "version": 3
   },
   "file_extension": ".py",
   "mimetype": "text/x-python",
   "name": "python",
   "nbconvert_exporter": "python",
   "pygments_lexer": "ipython3",
   "version": "3.7.5"
  }
 },
 "nbformat": 4,
 "nbformat_minor": 2
}
