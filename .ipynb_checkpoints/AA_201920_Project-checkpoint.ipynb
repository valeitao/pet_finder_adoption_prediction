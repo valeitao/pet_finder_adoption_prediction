{
 "cells": [
  {
   "cell_type": "markdown",
   "metadata": {},
   "source": [
    "# Machine Learning / Aprendizagem Automática\n",
    "\n",
    "## Sara C. Madeira, 2019/20\n",
    "\n",
    "# ML Project  - Learning about Pet Adoption using PetFinder.my Dataset"
   ]
  },
  {
   "cell_type": "markdown",
   "metadata": {},
   "source": [
    "## Logistics\n",
    "\n",
    "**Students are encouraged to work in teams of 3 people**. \n",
    "\n",
    "Projects with smaller teams are allowed, in exceptional cases, but will not have better grades for this reason. \n",
    "\n",
    "The quality of the project will dictate its grade, not the number of people working.\n",
    "\n",
    "**The project's solution should be uploaded in Moodle before the end of December, 20th 2019 (last day before Christmas holidays).** \n",
    "\n",
    "Students should **upload a `.zip` file** containing all the files necessary for project evaluation. \n",
    "\n",
    "**It is mandatory to produce a Jupyter notebook containing code and text/images/tables/etc describing the solution and the results. The notebook is both the solution and the report.**\n",
    "\n",
    "**Decisions should be fundamented and results should be critically discussed.**"
   ]
  },
  {
   "cell_type": "markdown",
   "metadata": {},
   "source": [
    "## Tools\n",
    "\n",
    "The team should use [Python 3](https://www.python.org) and [Jupyter Notebook](http://jupyter.org), together with **[Scikit-learn](http://scikit-learn.org/stable/)**, **[Orange3](https://orange.biolab.si)**, or **both**.\n",
    "\n",
    "**[Orange3](https://orange.biolab.si)** can be used through its **[programmatic version](https://docs.orange.biolab.si/3/data-mining-library/)**, by importing and using its packages, or throught its **workflow version**. \n",
    "\n",
    "**It is up to the team to decide when to use Scikit-learn, Orange, or both.**\n",
    "\n",
    "In this context, your Jupyter notebook might have a mix of code, results, text explanations, workflow figures, etc. \n",
    "\n",
    "In case you use Orange/workflows for some tasks you should also deliver the workflow files and explain the options taken in each widget in your notebook.\n",
    "\n",
    "**You can use this noteboook and the sections below as example.**"
   ]
  },
  {
   "cell_type": "markdown",
   "metadata": {},
   "source": [
    "## Dataset\n",
    "\n",
    "The dataset to be analysed is **`PetFinder_dataset.csv`**, made avaliable together with this project description. This dataset, downloaded from [Kaggle](https://www.kaggle.com), contains selected data from the following competition: [PetFinder.my Adoption Prediction](https://www.kaggle.com/c/petfinder-adoption-prediction/). \n",
    "\n",
    "PetFinder.my has been Malaysia’s leading animal welfare platform since 2008, with a database of more than 150,000 animals. PetFinder collaborates closely with animal lovers, media, corporations, and global organizations to improve animal welfare. Animal adoption rates are strongly correlated to the metadata associated with their online profiles, such as descriptive text and photo characteristics. As one example, PetFinder is currently experimenting with a simple AI tool called the Cuteness Meter, which ranks how cute a pet is based on qualities present in their photos. In this competition data scientist are supposed to develop algorithms to predict the adoptability of pets - specifically, how quickly is a pet adopted? If successful, they will be adapted into AI tools that will guide shelters and rescuers around the world on improving their pet profiles' appeal, reducing animal suffering and euthanization. \n",
    "\n",
    "**In this project, your team is supposed to use only tabular data (not Images or Image Metadata) and see how far you can go in predicting and understanging PetFinder.my adoptions. You should use both supervised and unsupervised learning to tackled 2 tasks:**\n",
    "\n",
    "1. **Task 1 (Supervised Learning) - Predicting Adoption and Adoption Speed**\n",
    "2. **Task 2 (Unsupervised Learning) - Charactering Adopted Pets and Adoption Speed**\n",
    "\n",
    "The **`PetFinder_dataset.csv`** you should learn from has **14.993 instances** described by **24 data fields** that you might use as **categorical/numerical features** and matches the `train.csv` file made available for the competition (https://www.kaggle.com/c/petfinder-adoption-prediction/data). **The target in the original Kaggle challenge is `Adoption Speed`.**\n",
    "\n",
    "### File Descriptions\n",
    "\n",
    "* **PetFinder_dataset.csv** - Tabular/text data for the training set\n",
    "* **breed_labels.csv** - Contains Type, and BreedName for each BreedID. Type 1 is dog, 2 is cat.\n",
    "* **color_labels.csv** - Contains ColorName for each ColorID\n",
    "* **state_labels.csv** - Contains StateName for each StateID\n",
    "\n",
    "### Data Fields\n",
    "\n",
    "* **PetID** - Unique hash ID of pet profile\n",
    "* **Type** - Type of animal (1 = Dog, 2 = Cat)\n",
    "* **AdoptionSpeed - Categorical speed of adoption. Lower is faster.** This is the value to predict in the competition. See below section for more info.\n",
    "* **Name** - Name of pet (Empty if not named)\n",
    "* **Age** - Age of pet when listed, in months\n",
    "* **Breed1** - Primary breed of pet (see `BreedLabels.csv` for details)\n",
    "* **Breed2** - Secondary breed of pet, if pet is of mixed breed (Refer to BreedLabels dictionary)\n",
    "* **Gender** - Gender of pet (1 = Male, 2 = Female, 3 = Mixed, if profile represents group of pets)\n",
    "* **Color1** - Color 1 of pet (see `ColorLabel.csv` for details)\n",
    "* **Color2** - Color 2 of pet (see `ColorLabel.csv` for details)\n",
    "* **Color3** - Color 3 of pet (see `ColorLabel.csv` for details)\n",
    "* **MaturitySize** - Size at maturity (1 = Small, 2 = Medium, 3 = Large, 4 = Extra Large, 0 = Not Specified)\n",
    "* **FurLength** - Fur length (1 = Short, 2 = Medium, 3 = Long, 0 = Not Specified)\n",
    "* **Vaccinated** - Pet has been vaccinated (1 = Yes, 2 = No, 3 = Not Sure)\n",
    "* **Dewormed** - Pet has been dewormed (1 = Yes, 2 = No, 3 = Not Sure)\n",
    "* **Sterilized** - Pet has been spayed / neutered (1 = Yes, 2 = No, 3 = Not Sure)\n",
    "* **Health** - Health Condition (1 = Healthy, 2 = Minor Injury, 3 = Serious Injury, 0 = Not Specified)\n",
    "* **Quantity** - Number of pets represented in profile\n",
    "* **Fee** - Adoption fee (0 = Free)\n",
    "* **State** - State location in Malaysia (Refer to StateLabels dictionary)\n",
    "* **RescuerID** - Unique hash ID of rescuer\n",
    "* **VideoAmt** - Total uploaded videos for this pet\n",
    "* **PhotoAmt** - Total uploaded photos for this pet\n",
    "* **Description** - Profile write-up for this pet. The primary language used is English, with some in Malay or Chinese.\n",
    "\n",
    "### AdoptionSpeed\n",
    "\n",
    "The value of `AdoptionSpeed` describes how quickly, if at all, a pet is adopted:\n",
    "* 0 - Pet was adopted on the same day as it was listed. \n",
    "* 1 - Pet was adopted between 1 and 7 days (1st week) after being listed. \n",
    "* 2 - Pet was adopted between 8 and 30 days (1st month) after being listed. \n",
    "* 3 - Pet was adopted between 31 and 90 days (2nd & 3rd month) after being listed.\n",
    "* 4 - No adoption after 100 days of being listed. (There are no pets in this dataset that waited between 90 and 100 days).\n",
    "\n",
    "### **Important Notes on Data Cleaning and Preprocessing**\n",
    "\n",
    "   1. Data can contain **errors/typos**, whose correction might improve the analysis.\n",
    "   2. Some features can contain **many values**, whose grouping in categories (aggregation into bins) might improve the analysis.\n",
    "   3. Data can contain **missing values**, that you might decide to fill. You might also decide to eliminate instances/features with high percentages of missing values.\n",
    "   4. **Not all features are necessarily important** for the analysis.\n",
    "   5. Depending on the analysis, **some features might have to be excluded**.\n",
    "   6. Class distribution is an important characteristic of the dataset that should be checked. **Class imbalance** might impair machine learning.  \n",
    "  \n",
    "Some potentially useful links:\n",
    "\n",
    "* Data Cleaning and Preprocessing in Scikit-learn: https://scikit-learn.org/stable/modules/preprocessing.html#\n",
    "* Data Cleaning and Preprocessing in Orange: https://docs.biolab.si//3/visual-programming/widgets/data/preprocess.html\n",
    "* Dealing with imbalance datasets: https://pypi.org/project/imbalanced-learn/ and https://www.kaggle.com/rafjaa/resampling-strategies-for-imbalanced-datasets#t7"
   ]
  },
  {
   "cell_type": "markdown",
   "metadata": {},
   "source": [
    "## Task 0 (Know your Data) - Exploratory Data Analysis"
   ]
  },
  {
   "cell_type": "markdown",
   "metadata": {},
   "source": [
    "## 0.1. Loading Data"
   ]
  },
  {
   "cell_type": "code",
   "execution_count": 88,
   "metadata": {},
   "outputs": [
    {
     "data": {
      "text/html": [
       "<div>\n",
       "<style scoped>\n",
       "    .dataframe tbody tr th:only-of-type {\n",
       "        vertical-align: middle;\n",
       "    }\n",
       "\n",
       "    .dataframe tbody tr th {\n",
       "        vertical-align: top;\n",
       "    }\n",
       "\n",
       "    .dataframe thead th {\n",
       "        text-align: right;\n",
       "    }\n",
       "</style>\n",
       "<table border=\"1\" class=\"dataframe\">\n",
       "  <thead>\n",
       "    <tr style=\"text-align: right;\">\n",
       "      <th></th>\n",
       "      <th>Type</th>\n",
       "      <th>Name</th>\n",
       "      <th>Age</th>\n",
       "      <th>Breed1</th>\n",
       "      <th>Breed2</th>\n",
       "      <th>Gender</th>\n",
       "      <th>Color1</th>\n",
       "      <th>Color2</th>\n",
       "      <th>Color3</th>\n",
       "      <th>MaturitySize</th>\n",
       "      <th>...</th>\n",
       "      <th>Health</th>\n",
       "      <th>Quantity</th>\n",
       "      <th>Fee</th>\n",
       "      <th>State</th>\n",
       "      <th>RescuerID</th>\n",
       "      <th>VideoAmt</th>\n",
       "      <th>Description</th>\n",
       "      <th>PetID</th>\n",
       "      <th>PhotoAmt</th>\n",
       "      <th>AdoptionSpeed</th>\n",
       "    </tr>\n",
       "  </thead>\n",
       "  <tbody>\n",
       "    <tr>\n",
       "      <th>0</th>\n",
       "      <td>2</td>\n",
       "      <td>Nibble</td>\n",
       "      <td>3</td>\n",
       "      <td>299</td>\n",
       "      <td>0</td>\n",
       "      <td>1</td>\n",
       "      <td>1</td>\n",
       "      <td>7</td>\n",
       "      <td>0</td>\n",
       "      <td>1</td>\n",
       "      <td>...</td>\n",
       "      <td>1</td>\n",
       "      <td>1</td>\n",
       "      <td>100</td>\n",
       "      <td>41326</td>\n",
       "      <td>8480853f516546f6cf33aa88cd76c379</td>\n",
       "      <td>0</td>\n",
       "      <td>Nibble is a 3+ month old ball of cuteness. He ...</td>\n",
       "      <td>86e1089a3</td>\n",
       "      <td>1.0</td>\n",
       "      <td>2</td>\n",
       "    </tr>\n",
       "    <tr>\n",
       "      <th>1</th>\n",
       "      <td>2</td>\n",
       "      <td>No Name Yet</td>\n",
       "      <td>1</td>\n",
       "      <td>265</td>\n",
       "      <td>0</td>\n",
       "      <td>1</td>\n",
       "      <td>1</td>\n",
       "      <td>2</td>\n",
       "      <td>0</td>\n",
       "      <td>2</td>\n",
       "      <td>...</td>\n",
       "      <td>1</td>\n",
       "      <td>1</td>\n",
       "      <td>0</td>\n",
       "      <td>41401</td>\n",
       "      <td>3082c7125d8fb66f7dd4bff4192c8b14</td>\n",
       "      <td>0</td>\n",
       "      <td>I just found it alone yesterday near my apartm...</td>\n",
       "      <td>6296e909a</td>\n",
       "      <td>2.0</td>\n",
       "      <td>0</td>\n",
       "    </tr>\n",
       "    <tr>\n",
       "      <th>2</th>\n",
       "      <td>1</td>\n",
       "      <td>Brisco</td>\n",
       "      <td>1</td>\n",
       "      <td>307</td>\n",
       "      <td>0</td>\n",
       "      <td>1</td>\n",
       "      <td>2</td>\n",
       "      <td>7</td>\n",
       "      <td>0</td>\n",
       "      <td>2</td>\n",
       "      <td>...</td>\n",
       "      <td>1</td>\n",
       "      <td>1</td>\n",
       "      <td>0</td>\n",
       "      <td>41326</td>\n",
       "      <td>fa90fa5b1ee11c86938398b60abc32cb</td>\n",
       "      <td>0</td>\n",
       "      <td>Their pregnant mother was dumped by her irresp...</td>\n",
       "      <td>3422e4906</td>\n",
       "      <td>7.0</td>\n",
       "      <td>3</td>\n",
       "    </tr>\n",
       "    <tr>\n",
       "      <th>3</th>\n",
       "      <td>1</td>\n",
       "      <td>Miko</td>\n",
       "      <td>4</td>\n",
       "      <td>307</td>\n",
       "      <td>0</td>\n",
       "      <td>2</td>\n",
       "      <td>1</td>\n",
       "      <td>2</td>\n",
       "      <td>0</td>\n",
       "      <td>2</td>\n",
       "      <td>...</td>\n",
       "      <td>1</td>\n",
       "      <td>1</td>\n",
       "      <td>150</td>\n",
       "      <td>41401</td>\n",
       "      <td>9238e4f44c71a75282e62f7136c6b240</td>\n",
       "      <td>0</td>\n",
       "      <td>Good guard dog, very alert, active, obedience ...</td>\n",
       "      <td>5842f1ff5</td>\n",
       "      <td>8.0</td>\n",
       "      <td>2</td>\n",
       "    </tr>\n",
       "    <tr>\n",
       "      <th>4</th>\n",
       "      <td>1</td>\n",
       "      <td>Hunter</td>\n",
       "      <td>1</td>\n",
       "      <td>307</td>\n",
       "      <td>0</td>\n",
       "      <td>1</td>\n",
       "      <td>1</td>\n",
       "      <td>0</td>\n",
       "      <td>0</td>\n",
       "      <td>2</td>\n",
       "      <td>...</td>\n",
       "      <td>1</td>\n",
       "      <td>1</td>\n",
       "      <td>0</td>\n",
       "      <td>41326</td>\n",
       "      <td>95481e953f8aed9ec3d16fc4509537e8</td>\n",
       "      <td>0</td>\n",
       "      <td>This handsome yet cute boy is up for adoption....</td>\n",
       "      <td>850a43f90</td>\n",
       "      <td>3.0</td>\n",
       "      <td>2</td>\n",
       "    </tr>\n",
       "    <tr>\n",
       "      <th>...</th>\n",
       "      <td>...</td>\n",
       "      <td>...</td>\n",
       "      <td>...</td>\n",
       "      <td>...</td>\n",
       "      <td>...</td>\n",
       "      <td>...</td>\n",
       "      <td>...</td>\n",
       "      <td>...</td>\n",
       "      <td>...</td>\n",
       "      <td>...</td>\n",
       "      <td>...</td>\n",
       "      <td>...</td>\n",
       "      <td>...</td>\n",
       "      <td>...</td>\n",
       "      <td>...</td>\n",
       "      <td>...</td>\n",
       "      <td>...</td>\n",
       "      <td>...</td>\n",
       "      <td>...</td>\n",
       "      <td>...</td>\n",
       "      <td>...</td>\n",
       "    </tr>\n",
       "    <tr>\n",
       "      <th>14988</th>\n",
       "      <td>2</td>\n",
       "      <td>NaN</td>\n",
       "      <td>2</td>\n",
       "      <td>266</td>\n",
       "      <td>0</td>\n",
       "      <td>3</td>\n",
       "      <td>1</td>\n",
       "      <td>0</td>\n",
       "      <td>0</td>\n",
       "      <td>2</td>\n",
       "      <td>...</td>\n",
       "      <td>1</td>\n",
       "      <td>4</td>\n",
       "      <td>0</td>\n",
       "      <td>41326</td>\n",
       "      <td>61c84bd7bcb6fb31d2d480b1bcf9682e</td>\n",
       "      <td>0</td>\n",
       "      <td>I have 4 kittens that need to be adopt urgentl...</td>\n",
       "      <td>dc0935a84</td>\n",
       "      <td>3.0</td>\n",
       "      <td>2</td>\n",
       "    </tr>\n",
       "    <tr>\n",
       "      <th>14989</th>\n",
       "      <td>2</td>\n",
       "      <td>Serato &amp; Eddie</td>\n",
       "      <td>60</td>\n",
       "      <td>265</td>\n",
       "      <td>264</td>\n",
       "      <td>3</td>\n",
       "      <td>1</td>\n",
       "      <td>4</td>\n",
       "      <td>7</td>\n",
       "      <td>2</td>\n",
       "      <td>...</td>\n",
       "      <td>1</td>\n",
       "      <td>2</td>\n",
       "      <td>0</td>\n",
       "      <td>41326</td>\n",
       "      <td>1d5096c4a5e159a3b750c5cfcf6ceabf</td>\n",
       "      <td>0</td>\n",
       "      <td>Serato(female cat- 3 color) is 4 years old and...</td>\n",
       "      <td>a01ab5b30</td>\n",
       "      <td>3.0</td>\n",
       "      <td>4</td>\n",
       "    </tr>\n",
       "    <tr>\n",
       "      <th>14990</th>\n",
       "      <td>2</td>\n",
       "      <td>Monkies</td>\n",
       "      <td>2</td>\n",
       "      <td>265</td>\n",
       "      <td>266</td>\n",
       "      <td>3</td>\n",
       "      <td>5</td>\n",
       "      <td>6</td>\n",
       "      <td>7</td>\n",
       "      <td>3</td>\n",
       "      <td>...</td>\n",
       "      <td>1</td>\n",
       "      <td>5</td>\n",
       "      <td>30</td>\n",
       "      <td>41326</td>\n",
       "      <td>6f40a7acfad5cc0bb3e44591ea446c05</td>\n",
       "      <td>0</td>\n",
       "      <td>Mix breed, good temperament kittens. Love huma...</td>\n",
       "      <td>d981b6395</td>\n",
       "      <td>5.0</td>\n",
       "      <td>3</td>\n",
       "    </tr>\n",
       "    <tr>\n",
       "      <th>14991</th>\n",
       "      <td>2</td>\n",
       "      <td>Ms Daym</td>\n",
       "      <td>9</td>\n",
       "      <td>266</td>\n",
       "      <td>0</td>\n",
       "      <td>2</td>\n",
       "      <td>4</td>\n",
       "      <td>7</td>\n",
       "      <td>0</td>\n",
       "      <td>1</td>\n",
       "      <td>...</td>\n",
       "      <td>1</td>\n",
       "      <td>1</td>\n",
       "      <td>0</td>\n",
       "      <td>41336</td>\n",
       "      <td>c311c0c569245baa147d91fa4e351ae4</td>\n",
       "      <td>0</td>\n",
       "      <td>she is very shy..adventures and independent..s...</td>\n",
       "      <td>e4da1c9e4</td>\n",
       "      <td>3.0</td>\n",
       "      <td>4</td>\n",
       "    </tr>\n",
       "    <tr>\n",
       "      <th>14992</th>\n",
       "      <td>1</td>\n",
       "      <td>Fili</td>\n",
       "      <td>1</td>\n",
       "      <td>307</td>\n",
       "      <td>307</td>\n",
       "      <td>1</td>\n",
       "      <td>2</td>\n",
       "      <td>0</td>\n",
       "      <td>0</td>\n",
       "      <td>2</td>\n",
       "      <td>...</td>\n",
       "      <td>1</td>\n",
       "      <td>1</td>\n",
       "      <td>0</td>\n",
       "      <td>41332</td>\n",
       "      <td>9ed1d5493d223eaa5024c1a031dbc9c2</td>\n",
       "      <td>0</td>\n",
       "      <td>Fili just loves laying around and also loves b...</td>\n",
       "      <td>a83d95ead</td>\n",
       "      <td>1.0</td>\n",
       "      <td>3</td>\n",
       "    </tr>\n",
       "  </tbody>\n",
       "</table>\n",
       "<p>14993 rows × 24 columns</p>\n",
       "</div>"
      ],
      "text/plain": [
       "       Type            Name  Age  Breed1  Breed2  Gender  Color1  Color2  \\\n",
       "0         2          Nibble    3     299       0       1       1       7   \n",
       "1         2     No Name Yet    1     265       0       1       1       2   \n",
       "2         1          Brisco    1     307       0       1       2       7   \n",
       "3         1            Miko    4     307       0       2       1       2   \n",
       "4         1          Hunter    1     307       0       1       1       0   \n",
       "...     ...             ...  ...     ...     ...     ...     ...     ...   \n",
       "14988     2             NaN    2     266       0       3       1       0   \n",
       "14989     2  Serato & Eddie   60     265     264       3       1       4   \n",
       "14990     2         Monkies    2     265     266       3       5       6   \n",
       "14991     2         Ms Daym    9     266       0       2       4       7   \n",
       "14992     1            Fili    1     307     307       1       2       0   \n",
       "\n",
       "       Color3  MaturitySize  ...  Health  Quantity  Fee  State  \\\n",
       "0           0             1  ...       1         1  100  41326   \n",
       "1           0             2  ...       1         1    0  41401   \n",
       "2           0             2  ...       1         1    0  41326   \n",
       "3           0             2  ...       1         1  150  41401   \n",
       "4           0             2  ...       1         1    0  41326   \n",
       "...       ...           ...  ...     ...       ...  ...    ...   \n",
       "14988       0             2  ...       1         4    0  41326   \n",
       "14989       7             2  ...       1         2    0  41326   \n",
       "14990       7             3  ...       1         5   30  41326   \n",
       "14991       0             1  ...       1         1    0  41336   \n",
       "14992       0             2  ...       1         1    0  41332   \n",
       "\n",
       "                              RescuerID  VideoAmt  \\\n",
       "0      8480853f516546f6cf33aa88cd76c379         0   \n",
       "1      3082c7125d8fb66f7dd4bff4192c8b14         0   \n",
       "2      fa90fa5b1ee11c86938398b60abc32cb         0   \n",
       "3      9238e4f44c71a75282e62f7136c6b240         0   \n",
       "4      95481e953f8aed9ec3d16fc4509537e8         0   \n",
       "...                                 ...       ...   \n",
       "14988  61c84bd7bcb6fb31d2d480b1bcf9682e         0   \n",
       "14989  1d5096c4a5e159a3b750c5cfcf6ceabf         0   \n",
       "14990  6f40a7acfad5cc0bb3e44591ea446c05         0   \n",
       "14991  c311c0c569245baa147d91fa4e351ae4         0   \n",
       "14992  9ed1d5493d223eaa5024c1a031dbc9c2         0   \n",
       "\n",
       "                                             Description      PetID PhotoAmt  \\\n",
       "0      Nibble is a 3+ month old ball of cuteness. He ...  86e1089a3      1.0   \n",
       "1      I just found it alone yesterday near my apartm...  6296e909a      2.0   \n",
       "2      Their pregnant mother was dumped by her irresp...  3422e4906      7.0   \n",
       "3      Good guard dog, very alert, active, obedience ...  5842f1ff5      8.0   \n",
       "4      This handsome yet cute boy is up for adoption....  850a43f90      3.0   \n",
       "...                                                  ...        ...      ...   \n",
       "14988  I have 4 kittens that need to be adopt urgentl...  dc0935a84      3.0   \n",
       "14989  Serato(female cat- 3 color) is 4 years old and...  a01ab5b30      3.0   \n",
       "14990  Mix breed, good temperament kittens. Love huma...  d981b6395      5.0   \n",
       "14991  she is very shy..adventures and independent..s...  e4da1c9e4      3.0   \n",
       "14992  Fili just loves laying around and also loves b...  a83d95ead      1.0   \n",
       "\n",
       "       AdoptionSpeed  \n",
       "0                  2  \n",
       "1                  0  \n",
       "2                  3  \n",
       "3                  2  \n",
       "4                  2  \n",
       "...              ...  \n",
       "14988              2  \n",
       "14989              4  \n",
       "14990              3  \n",
       "14991              4  \n",
       "14992              3  \n",
       "\n",
       "[14993 rows x 24 columns]"
      ]
     },
     "execution_count": 88,
     "metadata": {},
     "output_type": "execute_result"
    }
   ],
   "source": [
    "import numpy as np\n",
    "import pandas as pd\n",
    "\n",
    "df = pd.read_csv(\"PetFinder_dataset.csv\")\n",
    "df"
   ]
  },
  {
   "cell_type": "markdown",
   "metadata": {},
   "source": [
    "## 0.2. Understanding Data"
   ]
  },
  {
   "cell_type": "markdown",
   "metadata": {},
   "source": [
    "In this task you should **understand better the features**, their distribution of values, potential errors, etc and plan/describe what data preprocessing steps should be performed next. Very important also is the distribution of values in the target (class distribution). \n",
    "\n",
    "Here you can find a notebook with some examples of what you can do in **Exploratory Data Analysis**: https://www.kaggle.com/artgor/exploration-of-data-step-by-step/notebook. You can also use Orange widgets for this."
   ]
  },
  {
   "cell_type": "code",
   "execution_count": 89,
   "metadata": {},
   "outputs": [
    {
     "name": "stdout",
     "output_type": "stream",
     "text": [
      "<class 'pandas.core.frame.DataFrame'>\n",
      "RangeIndex: 14993 entries, 0 to 14992\n",
      "Data columns (total 24 columns):\n",
      "Type             14993 non-null int64\n",
      "Name             13736 non-null object\n",
      "Age              14993 non-null int64\n",
      "Breed1           14993 non-null int64\n",
      "Breed2           14993 non-null int64\n",
      "Gender           14993 non-null int64\n",
      "Color1           14993 non-null int64\n",
      "Color2           14993 non-null int64\n",
      "Color3           14993 non-null int64\n",
      "MaturitySize     14993 non-null int64\n",
      "FurLength        14993 non-null int64\n",
      "Vaccinated       14993 non-null int64\n",
      "Dewormed         14993 non-null int64\n",
      "Sterilized       14993 non-null int64\n",
      "Health           14993 non-null int64\n",
      "Quantity         14993 non-null int64\n",
      "Fee              14993 non-null int64\n",
      "State            14993 non-null int64\n",
      "RescuerID        14993 non-null object\n",
      "VideoAmt         14993 non-null int64\n",
      "Description      14981 non-null object\n",
      "PetID            14993 non-null object\n",
      "PhotoAmt         14993 non-null float64\n",
      "AdoptionSpeed    14993 non-null int64\n",
      "dtypes: float64(1), int64(19), object(4)\n",
      "memory usage: 2.7+ MB\n",
      "None\n"
     ]
    }
   ],
   "source": [
    "print(df.info())"
   ]
  },
  {
   "cell_type": "markdown",
   "metadata": {},
   "source": [
    "**Análise Exploratória - AdoptionSpeed**:\n",
    "\n",
    "A partir dos dados recolhidos, a primeira análise foi feita relativamente ao target AdoptionSpeed. Pode-se verificar que muito poucos pets são adoptados no mesmo dia de listagem. Uma grande parte dos mesmos não chega sequer a ser adoptada (correspondentes ao valor AdoptionSpeed = 4)."
   ]
  },
  {
   "cell_type": "code",
   "execution_count": 90,
   "metadata": {
    "scrolled": true
   },
   "outputs": [
    {
     "name": "stdout",
     "output_type": "stream",
     "text": [
      "Adoption speed = 0 - Number of pets: 410\n",
      "Adoption speed = 1 - Number of pets: 3090\n",
      "Adoption speed = 2 - Number of pets: 4037\n",
      "Adoption speed = 3 - Number of pets: 3259\n",
      "Adoption speed = 4 - Number of pets: 4197\n"
     ]
    }
   ],
   "source": [
    "import numpy as np\n",
    "import matplotlib.pyplot as plt\n",
    "import seaborn as sns \n",
    "\n",
    "for i in range(5):\n",
    "    score = (np.sum(df['AdoptionSpeed'] == i))\n",
    "    print(\"Adoption speed = {} - Number of pets: {}\".format(i, score))\n",
    "\n"
   ]
  },
  {
   "cell_type": "markdown",
   "metadata": {},
   "source": [
    "**Análise Exploratória - Gatos/Cães, e taxas de adopção por animal**\n"
   ]
  },
  {
   "cell_type": "code",
   "execution_count": 91,
   "metadata": {},
   "outputs": [
    {
     "name": "stdout",
     "output_type": "stream",
     "text": [
      "Number of dogs: 8132\n",
      "Number of cats: 6861\n"
     ]
    },
    {
     "data": {
      "image/png": "[encoded data removed]",
      "text/plain": [
       "<Figure size 432x216 with 1 Axes>"
      ]
     },
     "metadata": {
      "needs_background": "light"
     },
     "output_type": "display_data"
    }
   ],
   "source": [
    "print(\"Number of dogs: {}\".format((np.sum(df['Type'] == 1)),))\n",
    "print(\"Number of cats: {}\".format((np.sum(df['Type'] == 2)),))\n",
    "\n",
    "plt.figure(figsize=(6, 3));\n",
    "sns.countplot(x='Type', data=df);\n",
    "plt.title('Number of cats and dogs in train and test data');"
   ]
  },
  {
   "cell_type": "code",
   "execution_count": 92,
   "metadata": {},
   "outputs": [
    {
     "data": {
      "image/png": "[encoded data removed]",
      "text/plain": [
       "<Figure size 1296x576 with 1 Axes>"
      ]
     },
     "metadata": {
      "needs_background": "light"
     },
     "output_type": "display_data"
    }
   ],
   "source": [
    "main_count = df['AdoptionSpeed'].value_counts(normalize=True).sort_index()\n",
    "\n",
    "\"\"\"\n",
    "    FROM KAGGLE TUTORIAL:\n",
    "    Preparing dictionary with data for plotting.\n",
    "    \n",
    "    I want to show how much higher/lower are the rates of Adoption speed for the current column comparing to base values (as described higher),\n",
    "    At first I calculate base rates, then for each category in the column I calculate rates of Adoption speed and find difference with the base rates.  \n",
    "\"\"\"\n",
    "def prepare_plot_dict(df, col, main_count):\n",
    "    main_count = dict(main_count)\n",
    "    plot_dict = {}\n",
    "    for i in df[col].unique():\n",
    "        val_count = dict(df.loc[df[col] == i, 'AdoptionSpeed'].value_counts().sort_index())\n",
    "\n",
    "        for k, v in main_count.items():\n",
    "            if k in val_count:\n",
    "                plot_dict[val_count[k]] = ((val_count[k] / sum(val_count.values())) / main_count[k]) * 100 - 100\n",
    "            else:\n",
    "                plot_dict[0] = 0\n",
    "\n",
    "    return plot_dict\n",
    "\n",
    "\"\"\"\n",
    "    FROM KAGGLE TUTORIAL:\n",
    "    Plotting countplot with correct annotations.\n",
    "\"\"\"\n",
    "def make_count_plot(df, x, hue='AdoptionSpeed', title='', main_count=main_count):\n",
    "    g = sns.countplot(x=x, data=df, hue=hue);\n",
    "    plt.title(f'AdoptionSpeed {title}');\n",
    "    ax = g.axes\n",
    "\n",
    "    plot_dict = prepare_plot_dict(df, x, main_count)\n",
    "\n",
    "    for p in ax.patches:\n",
    "        h = p.get_height() if str(p.get_height()) != 'nan' else 0\n",
    "        text = f\"{plot_dict[h]:.0f}%\" if plot_dict[h] < 0 else f\"+{plot_dict[h]:.0f}%\"\n",
    "        ax.annotate(text, (p.get_x() + p.get_width() / 2., h),\n",
    "             ha='center', va='center', fontsize=9, color='green' if plot_dict[h] > 0 else 'red', rotation=0, xytext=(0, 10),\n",
    "             textcoords='offset points')\n",
    "        \n",
    "plt.figure(figsize=(18, 8));\n",
    "make_count_plot(df, x='Type', title='by pet Type')"
   ]
  },
  {
   "cell_type": "markdown",
   "metadata": {},
   "source": [
    "Dado o gráfico acima, é possível verificar que, em comparação com os valores base de adoção, que:\n",
    "\n",
    "   * Cães (type = 2) têm **maior probabilidade de adopção mais perto da data de registo do animal**, dado que para AdoptionSpeed = 0, o valor é 28% acima dos valores base no dataset. Além disso, comparadamente aos gatos, a probabilidade de não serem adoptados é menor (-7%, AdoptionSpeed = 4) sobre os valores base de adopção.\n",
    "    \n",
    "   * Em termos contrários, **os gatos tendem a demorar a ser adoptados** (type = 1), dado que para AdoptionSpeed = {0, 1, 2}, as percentagens são menores, enquanto que para AdoptionSpeed = {3, 4} são maiores que os valores base de adopção.\n",
    "    "
   ]
  },
  {
   "cell_type": "markdown",
   "metadata": {},
   "source": [
    "**Análise Exploratória - Nome**"
   ]
  },
  {
   "cell_type": "code",
   "execution_count": 93,
   "metadata": {},
   "outputs": [
    {
     "name": "stdout",
     "output_type": "stream",
     "text": [
      "Baby\n",
      "0     2\n",
      "1    11\n",
      "2    15\n",
      "3    11\n",
      "4    27\n",
      "Name: AdoptionSpeed, dtype: int64\n",
      "\n",
      "Lucky\n",
      "0     5\n",
      "1    14\n",
      "2    16\n",
      "3    12\n",
      "4    17\n",
      "Name: AdoptionSpeed, dtype: int64\n",
      "\n",
      "Brownie\n",
      "0     1\n",
      "1    11\n",
      "2    14\n",
      "3    12\n",
      "4    16\n",
      "Name: AdoptionSpeed, dtype: int64\n",
      "\n",
      "No Name\n",
      "0     3\n",
      "1    14\n",
      "2    11\n",
      "3     6\n",
      "4    20\n",
      "Name: AdoptionSpeed, dtype: int64\n",
      "\n",
      "Mimi\n",
      "0     3\n",
      "1    12\n",
      "2    13\n",
      "3     7\n",
      "4    17\n",
      "Name: AdoptionSpeed, dtype: int64\n",
      "\n"
     ]
    }
   ],
   "source": [
    "#Verificacao dos 10 nomes com mais animais registados\n",
    "\n",
    "for n in df['Name'].value_counts().index[:5]:\n",
    "    print(n)\n",
    "    print(df.loc[df['Name'] == n, 'AdoptionSpeed'].value_counts().sort_index())\n",
    "    print('')"
   ]
  },
  {
   "cell_type": "markdown",
   "metadata": {},
   "source": [
    "O nome 'No Name' é o **terceiro mais registado**...e não é propriamente um nome. Existirão mais \"nomes\" que se relacionam com animais sem um nome registado, por exemplo 'No Name Yet'."
   ]
  },
  {
   "cell_type": "code",
   "execution_count": 94,
   "metadata": {},
   "outputs": [
    {
     "name": "stdout",
     "output_type": "stream",
     "text": [
      "                 Name  AdoptionSpeed\n",
      "0              Nibble              2\n",
      "1         No Name Yet              0\n",
      "2              Brisco              3\n",
      "3                Miko              2\n",
      "4              Hunter              2\n",
      "...               ...            ...\n",
      "14988             NaN              2\n",
      "14989  Serato & Eddie              4\n",
      "14990         Monkies              3\n",
      "14991         Ms Daym              4\n",
      "14992            Fili              3\n",
      "\n",
      "[14993 rows x 2 columns]\n",
      "Unnamed animals: 1338\n",
      "0     30\n",
      "1    290\n",
      "2    333\n",
      "3    228\n",
      "4    457\n",
      "Name: AdoptionSpeed, dtype: int64\n"
     ]
    },
    {
     "data": {
      "image/png": "[encoded data removed]",
      "text/plain": [
       "<Figure size 720x576 with 1 Axes>"
      ]
     },
     "metadata": {
      "needs_background": "light"
     },
     "output_type": "display_data"
    }
   ],
   "source": [
    "unnamed_df = df[['Name','AdoptionSpeed']].copy()\n",
    "print(unnamed_df)\n",
    "\n",
    "unnamed_df['Name'] = unnamed_df['Name'].fillna('No Name Yet')\n",
    "unnamed_df.loc[unnamed_df['Name'] == 'No Name', 'Name'] = 'No Name Yet'\n",
    "unnamed_df.loc[unnamed_df['Name'] == 'Unnamed', 'Name'] = 'No Name Yet'\n",
    "print('Unnamed animals: {}'.format(unnamed_df[unnamed_df['Name'] == 'No Name Yet'].shape[0]))\n",
    "print(unnamed_df.loc[unnamed_df['Name'] == 'No Name Yet', 'AdoptionSpeed'].value_counts().sort_index())\n",
    "\n",
    "#Unnamed = 0 >>>>> Animal tem nome\n",
    "unnamed_df['Unnamed'] = 0\n",
    "unnamed_df.loc[unnamed_df['Name'] == 'No Name Yet', 'Unnamed'] = 1\n",
    "\n",
    "plt.figure(figsize=(10, 8));\n",
    "make_count_plot(unnamed_df, x='Unnamed', title='e ter um nome registado')"
   ]
  },
  {
   "cell_type": "markdown",
   "metadata": {},
   "source": [
    "O facto dos animais não terem o nome implica que haja uma redução no número de adopções: \n",
    "\n",
    "Para **AdoptionSpeed = 0**, ocorre um decréscimo de 18% relativos ao valor base de adopção dos animais registados, enquanto que para **AdoptionSpeed = 4**, há um acréscimo de 22% relativos a esse valor base. No entanto, este feature pode levar ao unbalancing do dataset, dado o número de animais a analisar.\n",
    "\n",
    "Além disso, muitos do nomes apenas correspondem a siglas ou números, o que também pode influenciar os valores de adopção. No entanto, essa análise é descartada dado que corresponde a um conjunto bastante reduzido dos indivíduos do dataset.\n",
    "\n",
    "Também existem alguns animais com nomes pequenos. No entanto, essa análise é descartada dado que corresponde a um número bastante reduzido de indivíduos do dataset."
   ]
  },
  {
   "cell_type": "markdown",
   "metadata": {},
   "source": [
    "Também existem muitos animais registados que contêm caracteres especiais. Para efeitos de análise, consideram-se caracteres especiais aqueles que não pertencem a:\n",
    "    * A-Z\n",
    "    * 0-9\n",
    "    * Caracteres {,&+ }, dado que estes implicam que são registos com mais que um animal\n",
    "    \n",
    "Por exemplo, Ã©Â»Â‘Ã©Â»Â‘ Hei Hei é um nome com caracteres especiais, enquanto que Alberto não tem qualquer especial."
   ]
  },
  {
   "cell_type": "code",
   "execution_count": 95,
   "metadata": {
    "scrolled": true
   },
   "outputs": [
    {
     "name": "stdout",
     "output_type": "stream",
     "text": [
      "Animals without special caracters: 93.98% of individuals\n",
      "Animals with special caracters: 6.02% of individuals\n",
      "---\n",
      "0     33\n",
      "1    199\n",
      "2    237\n",
      "3    179\n",
      "4    255\n",
      "Name: AdoptionSpeed, dtype: int64\n"
     ]
    }
   ],
   "source": [
    "def check_special(str):\n",
    "    lower_str = str.lower()\n",
    "    count = 0\n",
    "    not_special = 'abcdefghijklmnoprstuvwxyz0123456789,&+\" '\n",
    "    for i in range(len(lower_str)):\n",
    "        if lower_str[i] not in not_special:\n",
    "            count += 1\n",
    "    return count  \n",
    "\n",
    "name_df = df[['Name','AdoptionSpeed']].copy()\n",
    "\n",
    "name_df['SpecialName'] = 0\n",
    "name_df.loc[name_df['Name'].apply(lambda x: check_special(str(x)) >= 2), 'SpecialName'] = 1\n",
    "\n",
    "percentage_not_special = round(100*len(name_df[name_df['SpecialName'] == 0])/len(name_df['SpecialName']),2)\n",
    "percentage_special = round(100-percentage_not_special,2)\n",
    "print('Animals without special caracters: {}% of individuals'.format(percentage_not_special))\n",
    "print('Animals with special caracters: {}% of individuals'.format(percentage_special))\n",
    "print('---')\n",
    "print(name_df.loc[name_df['SpecialName'] == 1, 'AdoptionSpeed'].value_counts().sort_index())\n"
   ]
  },
  {
   "cell_type": "markdown",
   "metadata": {},
   "source": [
    "Dado que apenas **6,02%** dos individuos apresenta 2 ou mais caracteres especiais, considera-se que esta hipótese não representa impacto quantitativo sobre o dataset em questão.\n",
    "\n"
   ]
  },
  {
   "cell_type": "markdown",
   "metadata": {},
   "source": [
    "**Análise Exploratória - Idade**\n",
    "\n",
    "A questão da idade é interessante dado que é registada em meses. Pode ocorrer que parte dos animais até tenham sido mal registados dado que a sua idade exata é desconhecida, fazendo a aproximação ao ano mais próximo. \n",
    "\n",
    "Primeiro que tudo, vamos analisar a distribuição das idades."
   ]
  },
  {
   "cell_type": "code",
   "execution_count": 96,
   "metadata": {},
   "outputs": [
    {
     "name": "stdout",
     "output_type": "stream",
     "text": [
      "AxesSubplot(0.125,0.125;0.775x0.755)\n",
      "---\n",
      "Idades não registadas: 0\n",
      "Animais no primeiro ano de vida: 11244 (74.99% dos individuos)\n"
     ]
    },
    {
     "data": {
      "image/png": "[encoded data removed]",
      "text/plain": [
       "<Figure size 432x288 with 1 Axes>"
      ]
     },
     "metadata": {
      "needs_background": "light"
     },
     "output_type": "display_data"
    }
   ],
   "source": [
    "import seaborn as sns\n",
    "\n",
    "print(sns.distplot(df['Age']))\n",
    "print('---')\n",
    "per_firstborn = round(100*np.sum(df['Age'] < 12)/len(df['Age']),2)\n",
    "print('Idades não registadas: {}'. format(df['Age'].isnull().sum()))\n",
    "print('Animais no primeiro ano de vida: {} ({}% dos individuos)'.format(np.sum(df['Age'] < 12), per_firstborn))"
   ]
  },
  {
   "cell_type": "markdown",
   "metadata": {},
   "source": [
    "Existe um grande spike em valores perto de 0, logo, boa parte dos animais registados são bastante jovens, possivelmente até no seu primeiro ano de vida. Estes correspondem a 75% dos individuos no dataset, por isso definir uma feature que cobre esta quantidade pode levar a unbalancing. O objetivo vai ser 'partir' o dataset em agrupamentos que cubram de forma mais dividida o dataset.\n",
    "\n",
    "Curiosamente, os pequenos spikes que vão ocorrendo dentro da distribuição são aqueles que correspondem a múltiplos de 12, isto é, animais com 1,2,3,4,... anos."
   ]
  },
  {
   "cell_type": "code",
   "execution_count": 97,
   "metadata": {},
   "outputs": [
    {
     "name": "stdout",
     "output_type": "stream",
     "text": [
      "Animais entre 0 a 2 meses: 5986 (39.93% dos individuos)\n",
      "Animais entre 3 e 5 meses: 1704 (24.48% dos individuos)\n",
      "Animais entre 6 e 12 meses: 2555 (17.04% dos individuos)\n",
      "Animais com mais de um ano de vida: 2782 (18.56% dos individuos)\n"
     ]
    },
    {
     "data": {
      "image/png": "[encoded data removed]",
      "text/plain": [
       "<Figure size 1080x576 with 1 Axes>"
      ]
     },
     "metadata": {
      "needs_background": "light"
     },
     "output_type": "display_data"
    }
   ],
   "source": [
    "per_firstborn = round(100*np.sum(df['Age'] <= 2)/len(df['Age']),2)\n",
    "print('Animais entre 0 a 2 meses: {} ({}% dos individuos)'.format(np.sum(df['Age'] <= 2), per_firstborn))\n",
    "\n",
    "per_firstborn = round(100*np.sum((df['Age'] > 2) & (df['Age'] <= 5))/len(df['Age']),2)\n",
    "print('Animais entre 3 e 5 meses: {} ({}% dos individuos)'.format(np.sum((df['Age'] > 3) & (df['Age'] <= 5)), per_firstborn))\n",
    "\n",
    "per_firstborn = round(100*np.sum((df['Age'] >= 6) & (df['Age'] <= 12))/len(df['Age']),2)\n",
    "print('Animais entre 6 e 12 meses: {} ({}% dos individuos)'.format(np.sum((df['Age'] >= 6) & (df['Age'] <= 12)), per_firstborn))\n",
    "\n",
    "per_firstborn = round(100*np.sum(df['Age'] > 12)/len(df['Age']),2)\n",
    "print('Animais com mais de um ano de vida: {} ({}% dos individuos)'.format(np.sum(df['Age'] > 12), per_firstborn))\n",
    "\n",
    "age_df = df[['Age','AdoptionSpeed']].copy()\n",
    "age_df['AgePartial'] = 0\n",
    "age_df.loc[age_df['Age'] <= 2, 'AgePartial'] = '0'\n",
    "age_df.loc[(age_df['Age'] > 2) & (age_df['Age'] <= 5), 'AgePartial'] = '1'\n",
    "age_df.loc[(age_df['Age'] >= 6) & (age_df['Age'] <= 12), 'AgePartial'] = '2'\n",
    "age_df.loc[df['Age'] > 12, 'AgePartial'] = '3'\n",
    "\n",
    "plt.figure(figsize=(15, 8));\n",
    "make_count_plot(age_df, x='AgePartial', title='by Manual Age Partitions')"
   ]
  },
  {
   "cell_type": "markdown",
   "metadata": {},
   "source": [
    "É possível perceber que para idades maiores, existe uma prevalência para a não-adopção dos animais (AdoptionSpeed = 4). Além disso os animais mais jovens, recém-nascidos, têm uma tendência para a adopção muito maior que nas outras idades, dado que os seu rates de AdoptionSpeed = {0,1,2,3} são claramente maiores e AdoptionSpeed = 4 é menor também.\n",
    "\n",
    "As idades poderão ser então categorizadas, seria criada uma feature -- AgePartial -- relativa a partições de idade de animais. O *pandas* apresenta funções que conseguem fazer a partição da feature em vários quantis."
   ]
  },
  {
   "cell_type": "markdown",
   "metadata": {},
   "source": [
    "**Análise Exploratória - Breed** (ANALISAR DE FORMA MAIS PROFUNDA!)"
   ]
  },
  {
   "cell_type": "markdown",
   "metadata": {},
   "source": [
    "\"breed_labels.csv - Contains Type, and BreedName for each BreedID. Type 1 is dog, 2 is cat.<br>\n",
    "Breed1 - Primary breed of pet (see BreedLabels.csv for details).<br>\n",
    "Breed2 - Secondary breed of pet, if pet is of mixed breed (Refer to BreedLabels dictionary)\"\n",
    "\n",
    "Uma possível análise pode ser relativa aos animais que não têm raça secundária, sendo puros, i.e. Breed2 = 0\n"
   ]
  },
  {
   "cell_type": "code",
   "execution_count": 98,
   "metadata": {},
   "outputs": [
    {
     "name": "stdout",
     "output_type": "stream",
     "text": [
      "Animais de raça pura: 10762\n",
      "Percentagem de animais de raça pura no dataset: 71.78016407656906%\n",
      "Cães de raça pura: 5627\n",
      "Gatos de raça pura: 5135\n",
      "----------------------------\n"
     ]
    }
   ],
   "source": [
    "breed_df = pd.read_csv('breed_labels.csv')\n",
    "\n",
    "pure_individuals = np.sum(df['Breed2'] == 0)\n",
    "print('Animais de raça pura: {}'.format(pure_individuals))\n",
    "print('Percentagem de animais de raça pura no dataset: {}%'.format(100*pure_individuals/len(df['Breed2'])))\n",
    "\n",
    "pure_dog_individuals = np.sum((df['Breed2'] == 0) & (df['Type'] == 1))\n",
    "print('Cães de raça pura: {}'.format(pure_dog_individuals))\n",
    "\n",
    "pure_cat_individuals = np.sum((df['Breed2'] == 0) & (df['Type'] == 2))\n",
    "print('Gatos de raça pura: {}'.format(pure_cat_individuals))\n",
    "print('----------------------------')\n",
    "\n",
    "\n",
    "#df['PureBreed'] = 0\n",
    "#df.loc[df['Breed2'] == 0, 'PureBreed'] = 1\n",
    "#\n",
    "#plt.figure(figsize=(10, 5));\n",
    "#make_count_plot(df=df.loc[df['Type']==1], x='PureBreed', title='e ser cão de raça pura ou não')\n",
    "#\n",
    "#plt.figure(figsize=(10, 5));\n",
    "#make_count_plot(df=df.loc[df['Type']==2], x='PureBreed', title='e ser gato de raça pura ou não')\n",
    "#'''\n"
   ]
  },
  {
   "cell_type": "code",
   "execution_count": 99,
   "metadata": {},
   "outputs": [
    {
     "name": "stdout",
     "output_type": "stream",
     "text": [
      "     BreedID  Type    BreedName\n",
      "240      307     1  Mixed Breed\n",
      "     BreedID  Type            BreedName\n",
      "266      266     2  Domestic Short Hair\n",
      "     BreedID  Type             BreedName\n",
      "265      265     2  Domestic Medium Hair\n",
      "     BreedID  Type BreedName\n",
      "299      299     2     Tabby\n",
      "     BreedID  Type           BreedName\n",
      "264      264     2  Domestic Long Hair\n"
     ]
    }
   ],
   "source": [
    "#len(df['Breed1'].value_counts().index[:5])\n",
    "for n in range(len(df['Breed1'].value_counts().index[:5])):\n",
    "    print(breed_df[breed_df['BreedID'] == df['Breed1'].value_counts().index[:5][n]])\n",
    "    "
   ]
  },
  {
   "cell_type": "code",
   "execution_count": 100,
   "metadata": {},
   "outputs": [
    {
     "name": "stdout",
     "output_type": "stream",
     "text": [
      "matriz pure_individuals anterior\n",
      "     BreedID  Type    BreedName\n",
      "240      307     1  Mixed Breed\n",
      "     BreedID  Type            BreedName\n",
      "266      266     2  Domestic Short Hair\n",
      "     BreedID  Type             BreedName\n",
      "265      265     2  Domestic Medium Hair\n",
      "     BreedID  Type BreedName\n",
      "299      299     2     Tabby\n",
      "     BreedID  Type           BreedName\n",
      "264      264     2  Domestic Long Hair\n",
      "       Type                               Name  Age  Breed1  Breed2  Gender  \\\n",
      "22        2  Kenit, Kenot, Techit, Keyad, Owen    0     114       0       3   \n",
      "28        1                             Hunter   14     189       0       1   \n",
      "59        2               Chocolate And Kitten    2     243       0       3   \n",
      "65        1                          Ding Ding   48     205       0       2   \n",
      "81        1                              Teddy    3     207       0       1   \n",
      "...     ...                                ...  ...     ...     ...     ...   \n",
      "14960     2                              Comot    1     303       0       2   \n",
      "14961     1                              Racer    7     182       0       1   \n",
      "14963     2                            Boceyyy    6     276       0       1   \n",
      "14977     2                             Kimchi    3     254       0       2   \n",
      "14987     1                              Snowy    6     195       0       2   \n",
      "\n",
      "       Color1  Color2  Color3  MaturitySize  ...  Health  Quantity  Fee  \\\n",
      "22          3       6       7             2  ...       1        10    0   \n",
      "28          1       2       0             3  ...       1         1    1   \n",
      "59          1       6       7             1  ...       1         6    0   \n",
      "65          2       5       0             2  ...       1         1    0   \n",
      "81          1       2       0             1  ...       1         1  750   \n",
      "...       ...     ...     ...           ...  ...     ...       ...  ...   \n",
      "14960       1       2       7             1  ...       1         1    0   \n",
      "14961       1       2       0             1  ...       1         1    0   \n",
      "14963       1       0       0             2  ...       1         1   50   \n",
      "14977       1       2       7             1  ...       1         1    0   \n",
      "14987       1       7       0             1  ...       1         1    0   \n",
      "\n",
      "       State                         RescuerID  VideoAmt  \\\n",
      "22     41401  97be67995b53f86f64be212c867009fa         0   \n",
      "28     41326  cbc97ee98ae458e5deecedbc648e90d2         0   \n",
      "59     41401  56e5bf402cb852ece2604f92e4c5c2a2         0   \n",
      "65     41326  3b4973ac9e6a430314f5cfd356fdb3e4         0   \n",
      "81     41326  d03a75a35edc98d0c4eaab6cc0157d0b         0   \n",
      "...      ...                               ...       ...   \n",
      "14960  41326  66044942690776d858708bfc7c166078         1   \n",
      "14961  41401  c00756f2bdd8fa88fc9f07a8309f7d5d         0   \n",
      "14963  41326  966c41ae3a2427fd7882e899525f8b4e         0   \n",
      "14977  41326  5f86038e50ce0def545e64f9a06ab5e2         0   \n",
      "14987  41401  79309f4027f2fedb4349a298c69fe56f         0   \n",
      "\n",
      "                                             Description      PetID PhotoAmt  \\\n",
      "22     My cats name is Kenit, Kenot,Owen, Keyad, Manj...  1bc0f89d8      0.0   \n",
      "28     healthy and active , skinny and tall, as the m...  7843a9dca      0.0   \n",
      "59     The mother is about 2years and kittens are aro...  9c0ddccc8      1.0   \n",
      "65                         Ding Ding is adopted. Thanks.  e8d0907ae      5.0   \n",
      "81     he is the best breed of the so you can train h...  c30dd6e9a      2.0   \n",
      "...                                                  ...        ...      ...   \n",
      "14960  stray kitten together with 4 other siblings. n...  91bcb5a0a      2.0   \n",
      "14961  Pug for adoption. highly active, yet obedient,...  a2317e5b0      0.0   \n",
      "14963  Pls adopt this cat, mix maincoone, so active.....  3b3b37546      2.0   \n",
      "14977  Very friendly, close to human, could be good f...  472e86a83      2.0   \n",
      "14987                                              ooooo  4d163b731      1.0   \n",
      "\n",
      "       AdoptionSpeed  \n",
      "22                 4  \n",
      "28                 3  \n",
      "59                 4  \n",
      "65                 1  \n",
      "81                 1  \n",
      "...              ...  \n",
      "14960              2  \n",
      "14961              2  \n",
      "14963              1  \n",
      "14977              4  \n",
      "14987              0  \n",
      "\n",
      "[1760 rows x 24 columns]\n",
      "\n",
      "Nova iteração da matriz pure_individuals após serem excluidas raças mal classificadas\n",
      "     BreedID  Type BreedName\n",
      "204      205     1  Shih Tzu\n",
      "     BreedID  Type BreedName\n",
      "178      179     1    Poodle\n",
      "     BreedID  Type BreedName\n",
      "292      292     2   Siamese\n",
      "     BreedID  Type         BreedName\n",
      "108      109     1  Golden Retriever\n",
      "     BreedID  Type BreedName\n",
      "285      285     2   Persian\n",
      "\n",
      "Cães de raça pura: 1096\n",
      "Gatos de raça pura: 664\n"
     ]
    }
   ],
   "source": [
    "print('matriz pure_individuals anterior')\n",
    "len(df['Breed1'].value_counts().index[:5])\n",
    "for n in range(len(df['Breed1'].value_counts().index[:5])):\n",
    "    print(breed_df[breed_df['BreedID'] == df['Breed1'].value_counts().index[:5][n]])\n",
    "    \n",
    "# criacao de uma 'lista negra' de 'racas' que foram mal classificadas e itera sobre\n",
    "# a matriz pure_individuals\n",
    "mixed_breeds = [307, 266, 265, 299, 264]\n",
    "pure_individuals = df[np.isin(df['Breed1'], mixed_breeds, invert=True)]\n",
    "pure_individuals = pure_individuals[np.equal(pure_individuals['Breed2'], 0)]\n",
    "print(pure_individuals)\n",
    "\n",
    "# confirmar se esta tudo correto\n",
    "print('\\nNova iteração da matriz pure_individuals após serem excluidas raças mal classificadas')\n",
    "for n in range(len(pure_individuals['Breed1'].value_counts().index[:5])):\n",
    "    print(breed_df[breed_df['BreedID'] == pure_individuals['Breed1'].value_counts().index[:5][n]])\n",
    "\n",
    "# Imprime número total de individuos puros\n",
    "pure_dog_individuals = np.sum((pure_individuals['Type'] == 1))\n",
    "pure_cat_individuals = np.sum((pure_individuals['Type'] == 2))\n",
    "print('\\nCães de raça pura: {}'.format(pure_dog_individuals))\n",
    "print('Gatos de raça pura: {}'.format(pure_cat_individuals))"
   ]
  },
  {
   "cell_type": "markdown",
   "metadata": {},
   "source": [
    "Verifica-se que a raça primária que mais se sucede é na verdade 'Mixed Breed' o que implica que esse animal não é pure breed, dado que mixed >>> tem raça secundária. Esta feature vai ser analisada na secção de Pre-processing."
   ]
  },
  {
   "cell_type": "markdown",
   "metadata": {},
   "source": [
    "**Análise Exploratória - Género**\n",
    "* Gender - Gender of pet (1 = Male, 2 = Female, 3 = Mixed, if profile represents group of pets)"
   ]
  },
  {
   "cell_type": "code",
   "execution_count": 101,
   "metadata": {},
   "outputs": [
    {
     "data": {
      "image/png": "[encoded data removed]",
      "text/plain": [
       "<Figure size 1296x432 with 1 Axes>"
      ]
     },
     "metadata": {
      "needs_background": "light"
     },
     "output_type": "display_data"
    }
   ],
   "source": [
    "plt.figure(figsize=(18, 6));\n",
    "make_count_plot(df=df, x='Gender', title='e género')"
   ]
  },
  {
   "cell_type": "markdown",
   "metadata": {},
   "source": [
    "Verifica-se que há um decréscimo dos animais adoptados para gender = 3, que é representativo de grupos de animais num registo. Para esta feature pode ser feita também uma análise em conjunto com a quantidade de animais. Além disso, entre **machos** e **fêmeas**, verifica-se que há maior tendência para a adopção dos machos.\n",
    "\n",
    "Verificando se um registo com um conjunto de animais corresponde ao valor correto na coluna 'Gender', i.e. Gender = 3, é possível concluir que nenhum conjunto de animais tem o Gender incorrento."
   ]
  },
  {
   "cell_type": "code",
   "execution_count": 102,
   "metadata": {},
   "outputs": [
    {
     "data": {
      "text/plain": [
       "0"
      ]
     },
     "execution_count": 102,
     "metadata": {},
     "output_type": "execute_result"
    }
   ],
   "source": [
    "df_gender_numbers = df[['Gender','Quantity']]\n",
    "df_gender_numbers\n",
    "\n",
    "df_gender_numbers.loc[(df_gender_numbers['Gender'] == 3) & (df_gender_numbers['Quantity'] == 1)].shape[0]"
   ]
  },
  {
   "cell_type": "markdown",
   "metadata": {},
   "source": [
    "**Análise Exploratória - Cor**\n",
    "* Color1 - Color 1 of pet (see ColorLabel.csv for details)\n",
    "* Color2 - Color 2 of pet (see ColorLabel.csv for details)\n",
    "* Color3 - Color 3 of pet (see ColorLabel.csv for details)"
   ]
  },
  {
   "cell_type": "code",
   "execution_count": 103,
   "metadata": {},
   "outputs": [
    {
     "name": "stdout",
     "output_type": "stream",
     "text": [
      "   ColorID ColorName\n",
      "0        1     Black\n",
      "1        2     Brown\n",
      "2        3    Golden\n",
      "3        4    Yellow\n",
      "4        5     Cream\n",
      "5        6      Gray\n",
      "6        7     White\n",
      "\n",
      "\n",
      "Main color frequencies:\n",
      "1    0.495365\n",
      "2    0.250117\n",
      "3    0.063163\n",
      "5    0.058961\n",
      "6    0.045621\n",
      "7    0.044487\n",
      "4    0.042286\n",
      "Name: Color1, dtype: float64\n",
      "\n",
      "\n",
      "Second color frequencies:\n",
      "0    0.298206\n",
      "7    0.229307\n",
      "2    0.220970\n",
      "5    0.075235\n",
      "6    0.070900\n",
      "4    0.058027\n",
      "3    0.047355\n",
      "Name: Color2, dtype: float64\n",
      "No second color: 4471\n",
      "\n",
      "\n",
      "Third color frequencies:\n",
      "0    0.707263\n",
      "7    0.214834\n",
      "5    0.027813\n",
      "6    0.025212\n",
      "4    0.013206\n",
      "3    0.011672\n",
      "Name: Color3, dtype: float64\n",
      "No third color: 10604\n",
      "\n",
      "\n"
     ]
    }
   ],
   "source": [
    "#Main color analysis\n",
    "color_df = pd.read_csv('color_labels.csv')\n",
    "\n",
    "print(color_df)\n",
    "print('\\n')\n",
    "\n",
    "# A cor preta (Color_df.ColorName[1]) é a main color mais frequente.\n",
    "print('Main color frequencies:')\n",
    "print(df['Color1'].value_counts(normalize=True))\n",
    "print('\\n')\n",
    "\n",
    "\n",
    "print('Second color frequencies:')\n",
    "print(df['Color2'].value_counts(normalize=True))\n",
    "print('No second color: {}'.format(np.sum(df['Color2'] == 0)))\n",
    "print('\\n')\n",
    "\n",
    "print('Third color frequencies:')\n",
    "print(df['Color3'].value_counts(normalize=True))\n",
    "print('No third color: {}'.format(np.sum(df['Color3'] == 0)))\n",
    "\n",
    "print('\\n')"
   ]
  },
  {
   "cell_type": "markdown",
   "metadata": {},
   "source": [
    "Em termos de cor principal (Color1), existe uma maior prevalência das cores **preto** e **castanho**. No entanto, não é possível retirar conclusões relativas apenas a esta feature, o que pode provar a dependência com as cores secundárias."
   ]
  },
  {
   "cell_type": "code",
   "execution_count": 104,
   "metadata": {},
   "outputs": [
    {
     "data": {
      "image/png": "[encoded data removed]",
      "text/plain": [
       "<Figure size 1440x576 with 1 Axes>"
      ]
     },
     "metadata": {
      "needs_background": "light"
     },
     "output_type": "display_data"
    }
   ],
   "source": [
    "plt.figure(figsize=(20, 8));\n",
    "make_count_plot(df, x='Color1', title='e cor principal')"
   ]
  },
  {
   "cell_type": "code",
   "execution_count": 105,
   "metadata": {},
   "outputs": [
    {
     "data": {
      "text/plain": [
       "Index(['2-0-0', '1-2-0', '1-7-0', '1-2-7', '1-0-0', '2-7-0'], dtype='object')"
      ]
     },
     "execution_count": 105,
     "metadata": {},
     "output_type": "execute_result"
    }
   ],
   "source": [
    "color_df = df[['Color1', 'Color2', 'Color3', 'AdoptionSpeed']].copy()\n",
    "\n",
    "color_df['FullColor'] = color_df['Color1'].apply(lambda x : str(x)) + '-' + color_df['Color2'].apply(lambda x : str(x)) + '-' + color_df['Color3'].apply(lambda x : str(x))\n",
    "        \n",
    "color_df['FullColor'].value_counts().index[:6]"
   ]
  },
  {
   "cell_type": "code",
   "execution_count": 106,
   "metadata": {},
   "outputs": [
    {
     "data": {
      "text/plain": [
       "2-0-0    1460\n",
       "1-2-0    1417\n",
       "1-7-0    1375\n",
       "1-2-7    1159\n",
       "1-0-0    1002\n",
       "2-7-0     929\n",
       "Name: FullColor, dtype: int64"
      ]
     },
     "execution_count": 106,
     "metadata": {},
     "output_type": "execute_result"
    }
   ],
   "source": [
    "color_df['FullColor'].value_counts()[:6]"
   ]
  },
  {
   "cell_type": "code",
   "execution_count": 107,
   "metadata": {},
   "outputs": [
    {
     "data": {
      "image/png": "[encoded data removed]",
      "text/plain": [
       "<Figure size 1440x720 with 6 Axes>"
      ]
     },
     "metadata": {
      "needs_background": "light"
     },
     "output_type": "display_data"
    }
   ],
   "source": [
    "def make_factor_plot(df, x, col, title, main_count=main_count, hue=None, ann=True, col_wrap=4):\n",
    "    \"\"\"\n",
    "    Plotting countplot.\n",
    "    Making annotations is a bit more complicated, because we need to iterate over axes.\n",
    "    \"\"\"\n",
    "    if hue:\n",
    "        g = sns.catplot(col, col=x, data=df, kind='count', col_wrap=col_wrap, hue=hue);\n",
    "    else:\n",
    "        g = sns.catplot(col, col=x, data=df, kind='count', col_wrap=col_wrap);\n",
    "    plt.subplots_adjust(top=0.9);\n",
    "    plt.suptitle(title);\n",
    "    ax = g.axes\n",
    "    plot_dict = prepare_plot_dict(df, x, main_count)\n",
    "    if ann:\n",
    "        for a in ax:\n",
    "            for p in a.patches:\n",
    "                text = f\"{plot_dict[p.get_height()]:.0f}%\" if plot_dict[p.get_height()] < 0 else f\"+{plot_dict[p.get_height()]:.0f}%\"\n",
    "                a.annotate(text, (p.get_x() + p.get_width() / 2., p.get_height()),\n",
    "                     ha='center', va='center', fontsize=11, color='green' if plot_dict[p.get_height()] > 0 else 'red', rotation=0, xytext=(0, 10),\n",
    "                     textcoords='offset points')\n",
    "\n",
    "make_factor_plot(df=color_df.loc[color_df['FullColor'].isin(list(color_df['FullColor'].value_counts().index)[:6])], x='FullColor', col='AdoptionSpeed', title='Combinacao de cores e AdoptionSpeed')"
   ]
  },
  {
   "cell_type": "markdown",
   "metadata": {},
   "source": [
    "Escolhidas as combinações com maior número de pets (as seguintes tinham um número já reduzido de animais no conjunto):\n",
    "* 1-7-0: Black + White\n",
    "* 1-2-0: Black + Brown\n",
    "* 2-7-0: Brown + White\n",
    "* 1-0-0: Black \n",
    "* 1-2-7: Black + Brown + White\n",
    "* 2-0-0: Brown\n",
    "\n",
    "É possível verificar que as combinações estão definidas todas à volta das cores **preto**, **castanho** e **branco**. Uma boa hipótese é saber se o animal tem uma combinação que pertence ao conjunto de combinações descritas acima e tentar entender se existem diferenças no AdoptionSpeed dos mesmos. Vai ser criada uma coluna binária 'HasPrincipalColors'."
   ]
  },
  {
   "cell_type": "code",
   "execution_count": 108,
   "metadata": {},
   "outputs": [
    {
     "name": "stdout",
     "output_type": "stream",
     "text": [
      "0    7651\n",
      "1    7342\n",
      "Name: HasPrincipalColors, dtype: int64\n",
      "None\n"
     ]
    },
    {
     "data": {
      "image/png": "[encoded data removed]",
      "text/plain": [
       "<Figure size 720x360 with 1 Axes>"
      ]
     },
     "metadata": {
      "needs_background": "light"
     },
     "output_type": "display_data"
    }
   ],
   "source": [
    "color_df['HasPrincipalColors'] = 0\n",
    "principal_combinations = ['1-7-0','1-2-0','2-7-0','1-0-0','1-2-7','2-0-0']\n",
    "color_df.loc[color_df['FullColor'].apply(lambda x : x in principal_combinations), 'HasPrincipalColors'] = 1\n",
    "\n",
    "print(color_df['HasPrincipalColors'].value_counts())\n",
    "plt.figure(figsize=(10, 5));\n",
    "print(make_count_plot(color_df, x='HasPrincipalColors', title='e ter uma das combinações de cores principais'))\n",
    "\n"
   ]
  },
  {
   "cell_type": "markdown",
   "metadata": {},
   "source": [
    "**Análise Exploratória - MaturitySize**\n",
    "\n",
    "* MaturitySize - Size at maturity (1 = Small, 2 = Medium, 3 = Large, 4 = Extra Large, 0 = Not Specified)"
   ]
  },
  {
   "cell_type": "code",
   "execution_count": 109,
   "metadata": {},
   "outputs": [
    {
     "data": {
      "text/plain": [
       "2    10305\n",
       "1     3395\n",
       "3     1260\n",
       "4       33\n",
       "Name: MaturitySize, dtype: int64"
      ]
     },
     "execution_count": 109,
     "metadata": {},
     "output_type": "execute_result"
    }
   ],
   "source": [
    "df['MaturitySize'].value_counts()"
   ]
  },
  {
   "cell_type": "markdown",
   "metadata": {},
   "source": [
    "Todos os animais têm o seu tamanho registado e aqueles que apresentam tamanho médio estão em larga maioria. Além disso, existem pouquissimos animais de grande porte, o que vai levar a que seja bastante difícil retirar quaisquer conclusões sobre os mesmos."
   ]
  },
  {
   "cell_type": "code",
   "execution_count": 110,
   "metadata": {},
   "outputs": [
    {
     "data": {
      "image/png": "[encoded data removed]",
      "text/plain": [
       "<Figure size 1080x360 with 1 Axes>"
      ]
     },
     "metadata": {
      "needs_background": "light"
     },
     "output_type": "display_data"
    }
   ],
   "source": [
    "plt.figure(figsize=(15, 5))\n",
    "make_count_plot(df, x='MaturitySize', title='e relação com o porte do animal')"
   ]
  },
  {
   "cell_type": "markdown",
   "metadata": {},
   "source": [
    "Pelos dados retirados acima, também se nota que animais pequenos também podem ser adoptados com maior rapidamente daqueles de porte médio, por exemplo. No entanto, este facto pode também estar influenciado pela baixa população e do carácter aleatório que o influencia."
   ]
  },
  {
   "cell_type": "markdown",
   "metadata": {},
   "source": [
    "**Análise Exploratória - FurLength**"
   ]
  },
  {
   "cell_type": "markdown",
   "metadata": {},
   "source": [
    "* FurLength - Fur length (1 = Short, 2 = Medium, 3 = Long, 0 = Not Specified)\n",
    "\n",
    "Todos os animais têm o tamanho do pelo especificado. Animais com tamanho do pelo curto são aqueles que existem em maioria."
   ]
  },
  {
   "cell_type": "code",
   "execution_count": 111,
   "metadata": {},
   "outputs": [
    {
     "data": {
      "text/plain": [
       "1    8808\n",
       "2    5361\n",
       "3     824\n",
       "Name: FurLength, dtype: int64"
      ]
     },
     "execution_count": 111,
     "metadata": {},
     "output_type": "execute_result"
    }
   ],
   "source": [
    "df['FurLength'].value_counts()"
   ]
  },
  {
   "cell_type": "code",
   "execution_count": 112,
   "metadata": {},
   "outputs": [
    {
     "data": {
      "image/png": "[encoded data removed]",
      "text/plain": [
       "<Figure size 1440x864 with 3 Axes>"
      ]
     },
     "metadata": {
      "needs_background": "light"
     },
     "output_type": "display_data"
    }
   ],
   "source": [
    "plt.figure(figsize=(20, 12));\n",
    "plt.subplot(2, 2, 1)\n",
    "make_count_plot(df=df, x='FurLength', title= 'e tamanho do pelo')\n",
    "\n",
    "plt.subplot(2, 2, 2)\n",
    "make_count_plot(df=df.loc[df['Type'] == 1], x='FurLength', title= 'e tamanho do pelo em cães')\n",
    "\n",
    "plt.subplot(2, 2, 3)\n",
    "make_count_plot(df=df.loc[df['Type'] == 2], x='FurLength', title= 'e tamanho do pelo em gatos')"
   ]
  },
  {
   "cell_type": "markdown",
   "metadata": {},
   "source": [
    "**Análise Exploratória - Saúde do animal**\n",
    "\n",
    "* Vaccinated - Pet has been vaccinated (1 = Yes, 2 = No, 3 = Not Sure)\n",
    "* Dewormed - Pet has been dewormed (1 = Yes, 2 = No, 3 = Not Sure)\n",
    "* Sterilized - Pet has been spayed / neutered (1 = Yes, 2 = No, 3 = Not Sure)\n",
    "* Health - Health Condition (1 = Healthy, 2 = Minor Injury, 3 = Serious Injury, 0 = Not Specified)\n",
    "\n",
    "Uma ideia interessante é verificar se o impacto das três features (Vaccinated, Dewormed, Sterilized) leva a alterações na feature 'Health'."
   ]
  },
  {
   "cell_type": "code",
   "execution_count": 113,
   "metadata": {},
   "outputs": [
    {
     "name": "stdout",
     "output_type": "stream",
     "text": [
      "2    7227\n",
      "1    5898\n",
      "3    1868\n",
      "Name: Vaccinated, dtype: int64\n",
      "---\n",
      "1    8397\n",
      "2    4815\n",
      "3    1781\n",
      "Name: Dewormed, dtype: int64\n",
      "---\n",
      "2    10077\n",
      "1     3101\n",
      "3     1815\n",
      "Name: Sterilized, dtype: int64\n",
      "---\n",
      "1    14478\n",
      "2      481\n",
      "3       34\n",
      "Name: Health, dtype: int64\n"
     ]
    }
   ],
   "source": [
    "print(df['Vaccinated'].value_counts())\n",
    "print('---')\n",
    "print(df['Dewormed'].value_counts())\n",
    "print('---')\n",
    "print(df['Sterilized'].value_counts())\n",
    "print('---')\n",
    "print(df['Health'].value_counts())"
   ]
  },
  {
   "cell_type": "markdown",
   "metadata": {},
   "source": [
    "Grande parte dos animais não é vacinado nem é esterilizado. No entanto, grande parte dos animais são considerados saudáveis, nos registos."
   ]
  },
  {
   "cell_type": "code",
   "execution_count": 114,
   "metadata": {
    "scrolled": true
   },
   "outputs": [
    {
     "data": {
      "image/png": "[encoded data removed]",
      "text/plain": [
       "<Figure size 1440x864 with 4 Axes>"
      ]
     },
     "metadata": {
      "needs_background": "light"
     },
     "output_type": "display_data"
    }
   ],
   "source": [
    "plt.figure(figsize=(20, 12));\n",
    "plt.subplot(2, 2, 1)\n",
    "make_count_plot(df, x='Vaccinated', title= 'e vacinação do animal')\n",
    "\n",
    "plt.subplot(2, 2, 2)\n",
    "make_count_plot(df, x='Dewormed', title= 'e desparasitação do animal')\n",
    "\n",
    "plt.subplot(2, 2, 3)\n",
    "make_count_plot(df, x='Sterilized', title= 'e esterilização do animal')\n",
    "\n",
    "plt.subplot(2, 2, 4)\n",
    "make_count_plot(df, x='Health', title= 'e estado de saúde do animal')"
   ]
  },
  {
   "cell_type": "markdown",
   "metadata": {},
   "source": [
    "Os animais que **não são vacinados, não são esterilizados ou não são desparasitados** têm tendência a ser adoptados com maior facilidade do que aqueles que o são. \n",
    "* Tal se pode dever ao facto de boa parte dos animais deste grupo serem aqueles que se encontram na faixa etária mais baixa do conjunto, i.e., recém-nascidos > Vamos verificar se existe um match entre as idades e o facto de não serem levados ao veterinário."
   ]
  },
  {
   "cell_type": "code",
   "execution_count": 115,
   "metadata": {},
   "outputs": [
    {
     "data": {
      "text/html": [
       "<div>\n",
       "<style scoped>\n",
       "    .dataframe tbody tr th:only-of-type {\n",
       "        vertical-align: middle;\n",
       "    }\n",
       "\n",
       "    .dataframe tbody tr th {\n",
       "        vertical-align: top;\n",
       "    }\n",
       "\n",
       "    .dataframe thead th {\n",
       "        text-align: right;\n",
       "    }\n",
       "</style>\n",
       "<table border=\"1\" class=\"dataframe\">\n",
       "  <thead>\n",
       "    <tr style=\"text-align: right;\">\n",
       "      <th></th>\n",
       "      <th>Age</th>\n",
       "      <th>Vaccinated</th>\n",
       "      <th>Dewormed</th>\n",
       "      <th>Sterilized</th>\n",
       "      <th>Health</th>\n",
       "    </tr>\n",
       "  </thead>\n",
       "  <tbody>\n",
       "    <tr>\n",
       "      <th>Age</th>\n",
       "      <td>1.000000</td>\n",
       "      <td>-0.136061</td>\n",
       "      <td>-0.053360</td>\n",
       "      <td>-0.189450</td>\n",
       "      <td>0.103215</td>\n",
       "    </tr>\n",
       "    <tr>\n",
       "      <th>Vaccinated</th>\n",
       "      <td>-0.136061</td>\n",
       "      <td>1.000000</td>\n",
       "      <td>0.722596</td>\n",
       "      <td>0.471204</td>\n",
       "      <td>0.078893</td>\n",
       "    </tr>\n",
       "    <tr>\n",
       "      <th>Dewormed</th>\n",
       "      <td>-0.053360</td>\n",
       "      <td>0.722596</td>\n",
       "      <td>1.000000</td>\n",
       "      <td>0.426256</td>\n",
       "      <td>0.072188</td>\n",
       "    </tr>\n",
       "    <tr>\n",
       "      <th>Sterilized</th>\n",
       "      <td>-0.189450</td>\n",
       "      <td>0.471204</td>\n",
       "      <td>0.426256</td>\n",
       "      <td>1.000000</td>\n",
       "      <td>0.057916</td>\n",
       "    </tr>\n",
       "    <tr>\n",
       "      <th>Health</th>\n",
       "      <td>0.103215</td>\n",
       "      <td>0.078893</td>\n",
       "      <td>0.072188</td>\n",
       "      <td>0.057916</td>\n",
       "      <td>1.000000</td>\n",
       "    </tr>\n",
       "  </tbody>\n",
       "</table>\n",
       "</div>"
      ],
      "text/plain": [
       "                 Age  Vaccinated  Dewormed  Sterilized    Health\n",
       "Age         1.000000   -0.136061 -0.053360   -0.189450  0.103215\n",
       "Vaccinated -0.136061    1.000000  0.722596    0.471204  0.078893\n",
       "Dewormed   -0.053360    0.722596  1.000000    0.426256  0.072188\n",
       "Sterilized -0.189450    0.471204  0.426256    1.000000  0.057916\n",
       "Health      0.103215    0.078893  0.072188    0.057916  1.000000"
      ]
     },
     "execution_count": 115,
     "metadata": {},
     "output_type": "execute_result"
    }
   ],
   "source": [
    "def normalize(df):\n",
    "    copy_df = df.copy()\n",
    "    for feature in df.columns:\n",
    "        max_value = df[feature].max()\n",
    "        min_value = df[feature].min()\n",
    "        copy_df[feature] = (df[feature] - min_value) / (max_value - min_value)\n",
    "    return copy_df\n",
    "\n",
    "health_purposes_df = df[['Age','Vaccinated','Dewormed','Sterilized','Health']].copy()\n",
    "normalized_health_purposes_df = normalize(health_purposes_df)\n",
    "normalized_health_purposes_df.corr()"
   ]
  },
  {
   "cell_type": "markdown",
   "metadata": {},
   "source": [
    "Não existe uma correlação óbvia entre os parâmetros de idade e os parâmetros associados à saúde, dado que os valores de correlação são quase nulos."
   ]
  },
  {
   "cell_type": "markdown",
   "metadata": {},
   "source": [
    "**Análise Exploratória - Quantidade de Animais**"
   ]
  },
  {
   "cell_type": "code",
   "execution_count": 116,
   "metadata": {},
   "outputs": [
    {
     "data": {
      "text/plain": [
       "<BarContainer object of 10 artists>"
      ]
     },
     "execution_count": 116,
     "metadata": {},
     "output_type": "execute_result"
    },
    {
     "data": {
      "image/png": "[encoded data removed]",
      "text/plain": [
       "<Figure size 432x288 with 1 Axes>"
      ]
     },
     "metadata": {
      "needs_background": "light"
     },
     "output_type": "display_data"
    }
   ],
   "source": [
    "keys = np.unique(df['Quantity'].values)[:10]\n",
    "values = df['Quantity'].value_counts().tolist()[:10]\n",
    "\n",
    "plt.bar(keys, values, align='center', alpha=0.5, tick_label=keys, edgecolor='Red')"
   ]
  },
  {
   "cell_type": "markdown",
   "metadata": {},
   "source": [
    "Há um rápido descréscimo da quantidade de animais, sendo que a grande maioria dos registos é relativa a apenas um animal."
   ]
  },
  {
   "cell_type": "code",
   "execution_count": 117,
   "metadata": {},
   "outputs": [
    {
     "data": {
      "image/png": "[encoded data removed]",
      "text/plain": [
       "<Figure size 720x504 with 2 Axes>"
      ]
     },
     "metadata": {
      "needs_background": "light"
     },
     "output_type": "display_data"
    }
   ],
   "source": [
    "quantity_df = df[['Type','Quantity','AdoptionSpeed']].copy()\n",
    "\n",
    "quantity_df['SimpleQuantity'] = 1\n",
    "quantity_df.loc[quantity_df['Quantity'].apply(lambda x : x != 1), 'SimpleQuantity'] = 0\n",
    "\n",
    "plt.figure(figsize=(10,7))\n",
    "plt.subplots_adjust(top = 0.75, bottom=0.05, hspace=0.5, wspace=0.4)\n",
    "plt.subplot(2, 1, 1)\n",
    "make_count_plot(df=quantity_df.loc[quantity_df['Type'] == 1], x='SimpleQuantity', title= 'e quantidade de cães')\n",
    "plt.subplot(2, 1, 2)\n",
    "make_count_plot(df=quantity_df.loc[quantity_df['Type'] == 2], x='SimpleQuantity', title= 'e quantidade de gatos')"
   ]
  },
  {
   "cell_type": "markdown",
   "metadata": {},
   "source": [
    "Não é possível discernir diferenças de AdoptionSpeed entre o registo ser relativo a um animal ou a um conjunto de animais, seja para gatos ou para cães. Então vamos verificar diferenças entre os cinco valores de Quantity mais frequentes."
   ]
  },
  {
   "cell_type": "code",
   "execution_count": 118,
   "metadata": {},
   "outputs": [
    {
     "data": {
      "image/png": "[encoded data removed]",
      "text/plain": [
       "<Figure size 720x648 with 2 Axes>"
      ]
     },
     "metadata": {
      "needs_background": "light"
     },
     "output_type": "display_data"
    }
   ],
   "source": [
    "quantity_df['FrequentQuantity'] = quantity_df['Quantity'].apply(lambda x : x if x <= 5 else 6)\n",
    "\n",
    "plt.figure(figsize=(10,9))\n",
    "plt.subplots_adjust(top = 0.75, bottom=0.05, hspace=0.5, wspace=0.4)\n",
    "plt.subplot(2, 1, 1)\n",
    "make_count_plot(df=quantity_df.loc[quantity_df['Type'] == 1], x='FrequentQuantity', title= 'e quantidade de cães')\n",
    "plt.subplot(2, 1, 2)\n",
    "make_count_plot(df=quantity_df.loc[quantity_df['Type'] == 2], x='FrequentQuantity', title= 'e quantidade de gatos')\n"
   ]
  },
  {
   "cell_type": "markdown",
   "metadata": {},
   "source": [
    "É perceptível que à medida que o número de animais aumenta, o rácio de animais que não é adoptado também aumenta, sendo esse aumento mais notável no caso dos cães, embora essa conclusão não seja necessariamente forte, dado que registos com mais de um animal apresentam populações relativamente pequenas. Além disso, registos de apenas um gato têm rácio de adopção mais positivo que registos de apenas um cão."
   ]
  },
  {
   "cell_type": "markdown",
   "metadata": {},
   "source": [
    "**Análise Exploratória - Fee**"
   ]
  },
  {
   "cell_type": "markdown",
   "metadata": {},
   "source": [
    "A maioria dos registos não vem com custos de adopção associados. No entanto, é uma ideia interessante discernir a diferença entre registos com custo associado e registos com adopção 'grátis'."
   ]
  },
  {
   "cell_type": "code",
   "execution_count": 119,
   "metadata": {},
   "outputs": [
    {
     "data": {
      "image/png": "[encoded data removed]",
      "text/plain": [
       "<Figure size 720x432 with 1 Axes>"
      ]
     },
     "metadata": {
      "needs_background": "light"
     },
     "output_type": "display_data"
    }
   ],
   "source": [
    "fee_df = df[['Fee','AdoptionSpeed']].copy()\n",
    "\n",
    "fee_df['Fee'].value_counts()\n",
    "fee_df['FreeAdoption'] = 1\n",
    "fee_df.loc[fee_df['Fee'].apply(lambda x : x > 0), 'FreeAdoption'] = 0\n",
    "\n",
    "plt.figure(figsize=(10,6))\n",
    "make_count_plot(df=fee_df, x='FreeAdoption', title= 'e se a adopção é gratuita')"
   ]
  },
  {
   "cell_type": "markdown",
   "metadata": {},
   "source": [
    "O custo associado geralmente leva a que a probabilidade de adopção do animal descresça. \n",
    "\n",
    "Será que animais cuja adopção é gratuita são também aqueles que não são desparasitados, que não são vacinados ou que não são esterilizados? Pode ser que esses aspetos influenciem o preço para a adopção."
   ]
  },
  {
   "cell_type": "code",
   "execution_count": 120,
   "metadata": {},
   "outputs": [
    {
     "data": {
      "text/html": [
       "<div>\n",
       "<style scoped>\n",
       "    .dataframe tbody tr th:only-of-type {\n",
       "        vertical-align: middle;\n",
       "    }\n",
       "\n",
       "    .dataframe tbody tr th {\n",
       "        vertical-align: top;\n",
       "    }\n",
       "\n",
       "    .dataframe thead th {\n",
       "        text-align: right;\n",
       "    }\n",
       "</style>\n",
       "<table border=\"1\" class=\"dataframe\">\n",
       "  <thead>\n",
       "    <tr style=\"text-align: right;\">\n",
       "      <th></th>\n",
       "      <th>Fee</th>\n",
       "      <th>Vaccinated</th>\n",
       "      <th>Dewormed</th>\n",
       "      <th>Sterilized</th>\n",
       "      <th>Health</th>\n",
       "    </tr>\n",
       "  </thead>\n",
       "  <tbody>\n",
       "    <tr>\n",
       "      <th>Fee</th>\n",
       "      <td>1.000000</td>\n",
       "      <td>-0.121868</td>\n",
       "      <td>-0.105978</td>\n",
       "      <td>-0.063790</td>\n",
       "      <td>-0.010073</td>\n",
       "    </tr>\n",
       "    <tr>\n",
       "      <th>Vaccinated</th>\n",
       "      <td>-0.121868</td>\n",
       "      <td>1.000000</td>\n",
       "      <td>0.722596</td>\n",
       "      <td>0.471204</td>\n",
       "      <td>0.078893</td>\n",
       "    </tr>\n",
       "    <tr>\n",
       "      <th>Dewormed</th>\n",
       "      <td>-0.105978</td>\n",
       "      <td>0.722596</td>\n",
       "      <td>1.000000</td>\n",
       "      <td>0.426256</td>\n",
       "      <td>0.072188</td>\n",
       "    </tr>\n",
       "    <tr>\n",
       "      <th>Sterilized</th>\n",
       "      <td>-0.063790</td>\n",
       "      <td>0.471204</td>\n",
       "      <td>0.426256</td>\n",
       "      <td>1.000000</td>\n",
       "      <td>0.057916</td>\n",
       "    </tr>\n",
       "    <tr>\n",
       "      <th>Health</th>\n",
       "      <td>-0.010073</td>\n",
       "      <td>0.078893</td>\n",
       "      <td>0.072188</td>\n",
       "      <td>0.057916</td>\n",
       "      <td>1.000000</td>\n",
       "    </tr>\n",
       "  </tbody>\n",
       "</table>\n",
       "</div>"
      ],
      "text/plain": [
       "                 Fee  Vaccinated  Dewormed  Sterilized    Health\n",
       "Fee         1.000000   -0.121868 -0.105978   -0.063790 -0.010073\n",
       "Vaccinated -0.121868    1.000000  0.722596    0.471204  0.078893\n",
       "Dewormed   -0.105978    0.722596  1.000000    0.426256  0.072188\n",
       "Sterilized -0.063790    0.471204  0.426256    1.000000  0.057916\n",
       "Health     -0.010073    0.078893  0.072188    0.057916  1.000000"
      ]
     },
     "execution_count": 120,
     "metadata": {},
     "output_type": "execute_result"
    }
   ],
   "source": [
    "health_fee_df = df[['Fee','Vaccinated','Dewormed','Sterilized','Health']].copy()\n",
    "normalized_health_fee = normalize(health_fee_df)\n",
    "normalized_health_fee.corr()"
   ]
  },
  {
   "cell_type": "markdown",
   "metadata": {},
   "source": [
    "Nenhuma das features associadas à saúde tem influencia sobre o preço de adopção. Sendo assim, a única conclusão que se retira é que, no geral, *fees* gratuitas levam a maior rapidez de adopção."
   ]
  },
  {
   "cell_type": "markdown",
   "metadata": {},
   "source": [
    "**Análise Exploratória - Localização (State)**"
   ]
  },
  {
   "cell_type": "code",
   "execution_count": 121,
   "metadata": {},
   "outputs": [
    {
     "name": "stdout",
     "output_type": "stream",
     "text": [
      "Estados mais representados:\n",
      "------------------------\n",
      "    StateID StateName\n",
      "13    41326  Selangor\n",
      "   StateID     StateName\n",
      "3    41401  Kuala Lumpur\n",
      "    StateID     StateName\n",
      "10    41327  Pulau Pinang\n",
      "   StateID StateName\n",
      "0    41336     Johor\n",
      "   StateID StateName\n",
      "8    41330     Perak\n",
      "------------------------\n",
      "41326    8714\n",
      "41401    3845\n",
      "41327     843\n",
      "41336     507\n",
      "41330     420\n",
      "Name: State, dtype: int64\n"
     ]
    }
   ],
   "source": [
    "state_df = pd.read_csv('state_labels.csv')\n",
    "state_df\n",
    "\n",
    "print('Estados mais representados:\\n------------------------')\n",
    "for n in range(len(df['State'].value_counts().index[:5])):\n",
    "    print(state_df[state_df['StateID'] == df['State'].value_counts().index[:5][n]])\n",
    "    \n",
    "print('------------------------')\n",
    "print(df['State'].value_counts()[:5])"
   ]
  },
  {
   "cell_type": "markdown",
   "metadata": {},
   "source": [
    "Os estados mais representados em quantidade de registos são Selangor e Kuala Lumpur, que se destacam bastante dos restantes. No entanto, vamos optar por analisar os quatro estados mais representativos e tentar encontrar algum padrão."
   ]
  },
  {
   "cell_type": "code",
   "execution_count": 122,
   "metadata": {},
   "outputs": [
    {
     "name": "stdout",
     "output_type": "stream",
     "text": [
      "[41326, 41401, 41327, 41336]\n"
     ]
    },
    {
     "data": {
      "image/png": "[encoded data removed]",
      "text/plain": [
       "<Figure size 1440x360 with 4 Axes>"
      ]
     },
     "metadata": {
      "needs_background": "light"
     },
     "output_type": "display_data"
    }
   ],
   "source": [
    "pd.options.mode.chained_assignment = None  # default='warn'\n",
    "states_df = df[['State','AdoptionSpeed']]\n",
    "states_df\n",
    "\n",
    "print(list(df['State'].value_counts().index)[:4])\n",
    "\n",
    "make_factor_plot(df=states_df.loc[states_df['State'].isin(list(df['State'].value_counts().index)[:4])], x='State', col='AdoptionSpeed', title='Distribuição por estados e AdoptionSpeed')\n"
   ]
  },
  {
   "cell_type": "markdown",
   "metadata": {},
   "source": [
    "A distribuição de AdoptionSpeed é mais positiva nos maiores estados, observando a alteração dessa tendência à medida que analisamos os estados mais pequenos. No estado de Selangor, por exemplo, os rates de AdoptionSpeed que represnetam a adopção do animal são que mais aumentam em relação aos base rates.\n",
    "\n",
    "Esta feature vai ser descartada, porque dividir entre os rates nas maiores cidades e o resto dos estados da Malásia vai levar ao imbalancing. Os estados de Kuala Lumpur e Selangor acabam por representar uma grande fatia dos registos do dataset."
   ]
  },
  {
   "cell_type": "markdown",
   "metadata": {},
   "source": [
    "**Análise Exploratória - RescuerID e PetID**"
   ]
  },
  {
   "cell_type": "markdown",
   "metadata": {},
   "source": [
    "Ao contrário do PetID, a coluna correspondente aos RescuerID não é constituída apenas por valores únicos. No entanto, como estamos a lidar exclusivamente com IDs, estes não vão representar features que levem à generalização. Sendo assim, no pre-processing, estas features vão ser descartadas."
   ]
  },
  {
   "cell_type": "markdown",
   "metadata": {},
   "source": [
    "**Análise Exploratória - Descrição**"
   ]
  },
  {
   "cell_type": "code",
   "execution_count": 123,
   "metadata": {},
   "outputs": [
    {
     "name": "stdout",
     "output_type": "stream",
     "text": [
      "3.0       291\n",
      "2.0       266\n",
      "21.0      249\n",
      "22.0      205\n",
      "15.0      203\n",
      "         ... \n",
      "528.0       1\n",
      "1095.0      1\n",
      "385.0       1\n",
      "421.0       1\n",
      "883.0       1\n",
      "Name: DescLength, Length: 435, dtype: int64\n",
      "Descrições menores que 75 palavras: 10826 (72.20702994730874% dos individuos)\n"
     ]
    },
    {
     "name": "stderr",
     "output_type": "stream",
     "text": [
      "C:\\Users\\valei\\Anaconda3\\lib\\site-packages\\numpy\\lib\\histograms.py:393: RuntimeWarning: invalid value encountered in greater_equal\n",
      "  keep = (a >= first_edge)\n",
      "C:\\Users\\valei\\Anaconda3\\lib\\site-packages\\numpy\\lib\\histograms.py:394: RuntimeWarning: invalid value encountered in less_equal\n",
      "  keep &= (a <= last_edge)\n",
      "C:\\Users\\valei\\Anaconda3\\lib\\site-packages\\numpy\\lib\\histograms.py:829: RuntimeWarning: invalid value encountered in greater_equal\n",
      "  keep = (tmp_a >= first_edge)\n",
      "C:\\Users\\valei\\Anaconda3\\lib\\site-packages\\numpy\\lib\\histograms.py:830: RuntimeWarning: invalid value encountered in less_equal\n",
      "  keep &= (tmp_a <= last_edge)\n"
     ]
    },
    {
     "data": {
      "image/png": "[encoded data removed]",
      "text/plain": [
       "<Figure size 432x288 with 1 Axes>"
      ]
     },
     "metadata": {
      "needs_background": "light"
     },
     "output_type": "display_data"
    }
   ],
   "source": [
    "description_df = df[['Description','AdoptionSpeed']].copy()\n",
    "description_df\n",
    "\n",
    "description_df['DescLength'] = description_df['Description'].str.split().str.len()\n",
    "print(description_df['DescLength'].value_counts())\n",
    "\n",
    "plt.hist(description_df['DescLength'], bins='sturges')\n",
    "\n",
    "per_firstborn = 100*np.sum(description_df['DescLength'] <= 75.0)/len(description_df['DescLength'])\n",
    "print('Descrições menores que 75 palavras: {} ({}% dos individuos)'.format(np.sum(description_df['DescLength'] <= 75.0), per_firstborn))"
   ]
  },
  {
   "cell_type": "code",
   "execution_count": 124,
   "metadata": {},
   "outputs": [
    {
     "data": {
      "image/png": "[encoded data removed]",
      "text/plain": [
       "<Figure size 720x504 with 1 Axes>"
      ]
     },
     "metadata": {
      "needs_background": "light"
     },
     "output_type": "display_data"
    }
   ],
   "source": [
    "description_df['PartialDescription'] = 0\n",
    "description_df.loc[description_df['DescLength'].apply(lambda x : x <= 25.0), 'PartialDescription'] = 1\n",
    "description_df.loc[description_df['DescLength'].apply(lambda x : (x > 25.0) & (x <= 75.0)), 'PartialDescription'] = 2\n",
    "description_df.loc[description_df['DescLength'].apply(lambda x : x > 75.0), 'PartialDescription'] = 3\n",
    "\n",
    "description_df['PartialDescription'].value_counts()\n",
    "\n",
    "plt.figure(figsize=(10,7))\n",
    "make_count_plot(df=description_df, x='PartialDescription', title= 'e número de palavras na descrição')"
   ]
  },
  {
   "cell_type": "markdown",
   "metadata": {},
   "source": [
    "**Análise Exploratória - Quantidade de Vídeos**\n",
    "\n",
    "O valor VideoAmt é composto por um número inteiro que vai de 0 até ao maior valor inteiro."
   ]
  },
  {
   "cell_type": "code",
   "execution_count": 125,
   "metadata": {},
   "outputs": [
    {
     "name": "stdout",
     "output_type": "stream",
     "text": [
      "2.7812979390382178\n"
     ]
    },
    {
     "data": {
      "image/png": "[encoded data removed]",
      "text/plain": [
       "<Figure size 1296x432 with 1 Axes>"
      ]
     },
     "metadata": {
      "needs_background": "light"
     },
     "output_type": "display_data"
    }
   ],
   "source": [
    "individuals_video_df = df[['VideoAmt','AdoptionSpeed']].copy()\n",
    "\n",
    "# animais com videos\n",
    "individuals_video_df.loc[individuals_video_df['VideoAmt'] != 0, 'HasVideo'] = 1\n",
    "\n",
    "# animais sem videos\n",
    "individuals_video_df.loc[individuals_video_df['VideoAmt'] == 0, 'HasVideo'] = 0\n",
    "\n",
    "percentage = np.sum(individuals_video_df['VideoAmt'] == 1)\n",
    "print(100*percentage/len(individuals_video_df['VideoAmt']))\n",
    "\n",
    "plt.figure(figsize=(18, 6));\n",
    "make_count_plot(df=individuals_video_df, x='HasVideo', title='tendo em conta se entra em video ou não')"
   ]
  },
  {
   "cell_type": "markdown",
   "metadata": {},
   "source": [
    "**Análise Exploratória - Quantidade de Fotos**"
   ]
  },
  {
   "cell_type": "code",
   "execution_count": 126,
   "metadata": {},
   "outputs": [],
   "source": [
    "individuals_photo_df= df.copy()\n",
    "# animais sem nenhuma foto\n",
    "individuals_photo_df.loc[individuals_photo_df['PhotoAmt'] == 0, 'PhotoFlag'] = 0\n",
    "# animais com foto\n",
    "individuals_photo_df.loc[individuals_photo_df['PhotoAmt'] != 0, 'PhotoFlag'] = 1\n"
   ]
  },
  {
   "cell_type": "code",
   "execution_count": 127,
   "metadata": {},
   "outputs": [
    {
     "data": {
      "image/png": "[encoded data removed]",
      "text/plain": [
       "<Figure size 1296x432 with 1 Axes>"
      ]
     },
     "metadata": {
      "needs_background": "light"
     },
     "output_type": "display_data"
    }
   ],
   "source": [
    "plt.figure(figsize=(18, 6));\n",
    "make_count_plot(df=individuals_photo_df, x='PhotoFlag', title='e quantidade de fotos do registo')"
   ]
  },
  {
   "cell_type": "markdown",
   "metadata": {},
   "source": [
    "## Task 1 (Supervised Learning) - Predicting Adoption and Adoption Speed\n",
    "\n",
    "In this task you should target 3 classification tasks:\n",
    "1. **Predicting  Adoption (binary classification task)**: create a new target from AdoptionSpeed that is 1 if AdoptionSpeed <> 4 and 0 otherwise.\n",
    "2. **Predicting AdoptionSpeed (multiclass classification)**: in this task you should you the original target AdoptionSpeed, whose values are in the set {0, 1, 2, 3 , 4} (5 classes). This is a very difficult problem. You might also want to consider 3 classes (for instance {0-1, 2-3, 4}, or other sets that make sense). \n",
    "3. **Train specialized models for cats and dogs**: train with cat/dog instances and check whether the classification performance changes when Predicting Adoption and Predicting AdoptionSpeed."
   ]
  },
  {
   "cell_type": "markdown",
   "metadata": {},
   "source": [
    "**You should:**\n",
    "\n",
    "* Choose **one classifier in each category**: Tree models, Rule models, Linear models, Distance-based models, and Probabilistic models.\n",
    "* Use cross-validation to evaluate the results. \n",
    "* Present and discuss the results for different evaluation measures, present confusion matrices. Remember that not only overall results are important. Check what happens when learning to predict each class.\n",
    "* Describe the parameters used for each classifier and how their choice impacted or not the results.\n",
    "* Choose the best classifier and fundament you choice.\n",
    "* **Discuss critically your choices and the results!**"
   ]
  },
  {
   "cell_type": "markdown",
   "metadata": {},
   "source": [
    "## 1.1. Preprocessing Data for Classification"
   ]
  },
  {
   "cell_type": "markdown",
   "metadata": {},
   "source": [
    "O objetivo desta secção será a remoção de colunas desnecessárias, assim como a conversão de outras para um formato mais favorável à sua classificação."
   ]
  },
  {
   "cell_type": "code",
   "execution_count": 128,
   "metadata": {},
   "outputs": [
    {
     "data": {
      "text/html": [
       "<div>\n",
       "<style scoped>\n",
       "    .dataframe tbody tr th:only-of-type {\n",
       "        vertical-align: middle;\n",
       "    }\n",
       "\n",
       "    .dataframe tbody tr th {\n",
       "        vertical-align: top;\n",
       "    }\n",
       "\n",
       "    .dataframe thead th {\n",
       "        text-align: right;\n",
       "    }\n",
       "</style>\n",
       "<table border=\"1\" class=\"dataframe\">\n",
       "  <thead>\n",
       "    <tr style=\"text-align: right;\">\n",
       "      <th></th>\n",
       "      <th>Type</th>\n",
       "      <th>Name</th>\n",
       "      <th>Age</th>\n",
       "      <th>Breed1</th>\n",
       "      <th>Breed2</th>\n",
       "      <th>Gender</th>\n",
       "      <th>Color1</th>\n",
       "      <th>Color2</th>\n",
       "      <th>Color3</th>\n",
       "      <th>MaturitySize</th>\n",
       "      <th>...</th>\n",
       "      <th>Dewormed</th>\n",
       "      <th>Sterilized</th>\n",
       "      <th>Health</th>\n",
       "      <th>Quantity</th>\n",
       "      <th>Fee</th>\n",
       "      <th>State</th>\n",
       "      <th>VideoAmt</th>\n",
       "      <th>Description</th>\n",
       "      <th>PhotoAmt</th>\n",
       "      <th>AdoptionSpeed</th>\n",
       "    </tr>\n",
       "  </thead>\n",
       "  <tbody>\n",
       "    <tr>\n",
       "      <th>0</th>\n",
       "      <td>2</td>\n",
       "      <td>Nibble</td>\n",
       "      <td>3</td>\n",
       "      <td>299</td>\n",
       "      <td>0</td>\n",
       "      <td>1</td>\n",
       "      <td>1</td>\n",
       "      <td>7</td>\n",
       "      <td>0</td>\n",
       "      <td>1</td>\n",
       "      <td>...</td>\n",
       "      <td>2</td>\n",
       "      <td>2</td>\n",
       "      <td>1</td>\n",
       "      <td>1</td>\n",
       "      <td>100</td>\n",
       "      <td>41326</td>\n",
       "      <td>0</td>\n",
       "      <td>Nibble is a 3+ month old ball of cuteness. He ...</td>\n",
       "      <td>1.0</td>\n",
       "      <td>2</td>\n",
       "    </tr>\n",
       "    <tr>\n",
       "      <th>1</th>\n",
       "      <td>2</td>\n",
       "      <td>No Name Yet</td>\n",
       "      <td>1</td>\n",
       "      <td>265</td>\n",
       "      <td>0</td>\n",
       "      <td>1</td>\n",
       "      <td>1</td>\n",
       "      <td>2</td>\n",
       "      <td>0</td>\n",
       "      <td>2</td>\n",
       "      <td>...</td>\n",
       "      <td>3</td>\n",
       "      <td>3</td>\n",
       "      <td>1</td>\n",
       "      <td>1</td>\n",
       "      <td>0</td>\n",
       "      <td>41401</td>\n",
       "      <td>0</td>\n",
       "      <td>I just found it alone yesterday near my apartm...</td>\n",
       "      <td>2.0</td>\n",
       "      <td>0</td>\n",
       "    </tr>\n",
       "    <tr>\n",
       "      <th>2</th>\n",
       "      <td>1</td>\n",
       "      <td>Brisco</td>\n",
       "      <td>1</td>\n",
       "      <td>307</td>\n",
       "      <td>0</td>\n",
       "      <td>1</td>\n",
       "      <td>2</td>\n",
       "      <td>7</td>\n",
       "      <td>0</td>\n",
       "      <td>2</td>\n",
       "      <td>...</td>\n",
       "      <td>1</td>\n",
       "      <td>2</td>\n",
       "      <td>1</td>\n",
       "      <td>1</td>\n",
       "      <td>0</td>\n",
       "      <td>41326</td>\n",
       "      <td>0</td>\n",
       "      <td>Their pregnant mother was dumped by her irresp...</td>\n",
       "      <td>7.0</td>\n",
       "      <td>3</td>\n",
       "    </tr>\n",
       "    <tr>\n",
       "      <th>3</th>\n",
       "      <td>1</td>\n",
       "      <td>Miko</td>\n",
       "      <td>4</td>\n",
       "      <td>307</td>\n",
       "      <td>0</td>\n",
       "      <td>2</td>\n",
       "      <td>1</td>\n",
       "      <td>2</td>\n",
       "      <td>0</td>\n",
       "      <td>2</td>\n",
       "      <td>...</td>\n",
       "      <td>1</td>\n",
       "      <td>2</td>\n",
       "      <td>1</td>\n",
       "      <td>1</td>\n",
       "      <td>150</td>\n",
       "      <td>41401</td>\n",
       "      <td>0</td>\n",
       "      <td>Good guard dog, very alert, active, obedience ...</td>\n",
       "      <td>8.0</td>\n",
       "      <td>2</td>\n",
       "    </tr>\n",
       "    <tr>\n",
       "      <th>4</th>\n",
       "      <td>1</td>\n",
       "      <td>Hunter</td>\n",
       "      <td>1</td>\n",
       "      <td>307</td>\n",
       "      <td>0</td>\n",
       "      <td>1</td>\n",
       "      <td>1</td>\n",
       "      <td>0</td>\n",
       "      <td>0</td>\n",
       "      <td>2</td>\n",
       "      <td>...</td>\n",
       "      <td>2</td>\n",
       "      <td>2</td>\n",
       "      <td>1</td>\n",
       "      <td>1</td>\n",
       "      <td>0</td>\n",
       "      <td>41326</td>\n",
       "      <td>0</td>\n",
       "      <td>This handsome yet cute boy is up for adoption....</td>\n",
       "      <td>3.0</td>\n",
       "      <td>2</td>\n",
       "    </tr>\n",
       "    <tr>\n",
       "      <th>...</th>\n",
       "      <td>...</td>\n",
       "      <td>...</td>\n",
       "      <td>...</td>\n",
       "      <td>...</td>\n",
       "      <td>...</td>\n",
       "      <td>...</td>\n",
       "      <td>...</td>\n",
       "      <td>...</td>\n",
       "      <td>...</td>\n",
       "      <td>...</td>\n",
       "      <td>...</td>\n",
       "      <td>...</td>\n",
       "      <td>...</td>\n",
       "      <td>...</td>\n",
       "      <td>...</td>\n",
       "      <td>...</td>\n",
       "      <td>...</td>\n",
       "      <td>...</td>\n",
       "      <td>...</td>\n",
       "      <td>...</td>\n",
       "      <td>...</td>\n",
       "    </tr>\n",
       "    <tr>\n",
       "      <th>14988</th>\n",
       "      <td>2</td>\n",
       "      <td>NaN</td>\n",
       "      <td>2</td>\n",
       "      <td>266</td>\n",
       "      <td>0</td>\n",
       "      <td>3</td>\n",
       "      <td>1</td>\n",
       "      <td>0</td>\n",
       "      <td>0</td>\n",
       "      <td>2</td>\n",
       "      <td>...</td>\n",
       "      <td>2</td>\n",
       "      <td>2</td>\n",
       "      <td>1</td>\n",
       "      <td>4</td>\n",
       "      <td>0</td>\n",
       "      <td>41326</td>\n",
       "      <td>0</td>\n",
       "      <td>I have 4 kittens that need to be adopt urgentl...</td>\n",
       "      <td>3.0</td>\n",
       "      <td>2</td>\n",
       "    </tr>\n",
       "    <tr>\n",
       "      <th>14989</th>\n",
       "      <td>2</td>\n",
       "      <td>Serato &amp; Eddie</td>\n",
       "      <td>60</td>\n",
       "      <td>265</td>\n",
       "      <td>264</td>\n",
       "      <td>3</td>\n",
       "      <td>1</td>\n",
       "      <td>4</td>\n",
       "      <td>7</td>\n",
       "      <td>2</td>\n",
       "      <td>...</td>\n",
       "      <td>1</td>\n",
       "      <td>1</td>\n",
       "      <td>1</td>\n",
       "      <td>2</td>\n",
       "      <td>0</td>\n",
       "      <td>41326</td>\n",
       "      <td>0</td>\n",
       "      <td>Serato(female cat- 3 color) is 4 years old and...</td>\n",
       "      <td>3.0</td>\n",
       "      <td>4</td>\n",
       "    </tr>\n",
       "    <tr>\n",
       "      <th>14990</th>\n",
       "      <td>2</td>\n",
       "      <td>Monkies</td>\n",
       "      <td>2</td>\n",
       "      <td>265</td>\n",
       "      <td>266</td>\n",
       "      <td>3</td>\n",
       "      <td>5</td>\n",
       "      <td>6</td>\n",
       "      <td>7</td>\n",
       "      <td>3</td>\n",
       "      <td>...</td>\n",
       "      <td>1</td>\n",
       "      <td>3</td>\n",
       "      <td>1</td>\n",
       "      <td>5</td>\n",
       "      <td>30</td>\n",
       "      <td>41326</td>\n",
       "      <td>0</td>\n",
       "      <td>Mix breed, good temperament kittens. Love huma...</td>\n",
       "      <td>5.0</td>\n",
       "      <td>3</td>\n",
       "    </tr>\n",
       "    <tr>\n",
       "      <th>14991</th>\n",
       "      <td>2</td>\n",
       "      <td>Ms Daym</td>\n",
       "      <td>9</td>\n",
       "      <td>266</td>\n",
       "      <td>0</td>\n",
       "      <td>2</td>\n",
       "      <td>4</td>\n",
       "      <td>7</td>\n",
       "      <td>0</td>\n",
       "      <td>1</td>\n",
       "      <td>...</td>\n",
       "      <td>1</td>\n",
       "      <td>1</td>\n",
       "      <td>1</td>\n",
       "      <td>1</td>\n",
       "      <td>0</td>\n",
       "      <td>41336</td>\n",
       "      <td>0</td>\n",
       "      <td>she is very shy..adventures and independent..s...</td>\n",
       "      <td>3.0</td>\n",
       "      <td>4</td>\n",
       "    </tr>\n",
       "    <tr>\n",
       "      <th>14992</th>\n",
       "      <td>1</td>\n",
       "      <td>Fili</td>\n",
       "      <td>1</td>\n",
       "      <td>307</td>\n",
       "      <td>307</td>\n",
       "      <td>1</td>\n",
       "      <td>2</td>\n",
       "      <td>0</td>\n",
       "      <td>0</td>\n",
       "      <td>2</td>\n",
       "      <td>...</td>\n",
       "      <td>2</td>\n",
       "      <td>2</td>\n",
       "      <td>1</td>\n",
       "      <td>1</td>\n",
       "      <td>0</td>\n",
       "      <td>41332</td>\n",
       "      <td>0</td>\n",
       "      <td>Fili just loves laying around and also loves b...</td>\n",
       "      <td>1.0</td>\n",
       "      <td>3</td>\n",
       "    </tr>\n",
       "  </tbody>\n",
       "</table>\n",
       "<p>14993 rows × 22 columns</p>\n",
       "</div>"
      ],
      "text/plain": [
       "       Type            Name  Age  Breed1  Breed2  Gender  Color1  Color2  \\\n",
       "0         2          Nibble    3     299       0       1       1       7   \n",
       "1         2     No Name Yet    1     265       0       1       1       2   \n",
       "2         1          Brisco    1     307       0       1       2       7   \n",
       "3         1            Miko    4     307       0       2       1       2   \n",
       "4         1          Hunter    1     307       0       1       1       0   \n",
       "...     ...             ...  ...     ...     ...     ...     ...     ...   \n",
       "14988     2             NaN    2     266       0       3       1       0   \n",
       "14989     2  Serato & Eddie   60     265     264       3       1       4   \n",
       "14990     2         Monkies    2     265     266       3       5       6   \n",
       "14991     2         Ms Daym    9     266       0       2       4       7   \n",
       "14992     1            Fili    1     307     307       1       2       0   \n",
       "\n",
       "       Color3  MaturitySize  ...  Dewormed  Sterilized  Health  Quantity  Fee  \\\n",
       "0           0             1  ...         2           2       1         1  100   \n",
       "1           0             2  ...         3           3       1         1    0   \n",
       "2           0             2  ...         1           2       1         1    0   \n",
       "3           0             2  ...         1           2       1         1  150   \n",
       "4           0             2  ...         2           2       1         1    0   \n",
       "...       ...           ...  ...       ...         ...     ...       ...  ...   \n",
       "14988       0             2  ...         2           2       1         4    0   \n",
       "14989       7             2  ...         1           1       1         2    0   \n",
       "14990       7             3  ...         1           3       1         5   30   \n",
       "14991       0             1  ...         1           1       1         1    0   \n",
       "14992       0             2  ...         2           2       1         1    0   \n",
       "\n",
       "       State  VideoAmt                                        Description  \\\n",
       "0      41326         0  Nibble is a 3+ month old ball of cuteness. He ...   \n",
       "1      41401         0  I just found it alone yesterday near my apartm...   \n",
       "2      41326         0  Their pregnant mother was dumped by her irresp...   \n",
       "3      41401         0  Good guard dog, very alert, active, obedience ...   \n",
       "4      41326         0  This handsome yet cute boy is up for adoption....   \n",
       "...      ...       ...                                                ...   \n",
       "14988  41326         0  I have 4 kittens that need to be adopt urgentl...   \n",
       "14989  41326         0  Serato(female cat- 3 color) is 4 years old and...   \n",
       "14990  41326         0  Mix breed, good temperament kittens. Love huma...   \n",
       "14991  41336         0  she is very shy..adventures and independent..s...   \n",
       "14992  41332         0  Fili just loves laying around and also loves b...   \n",
       "\n",
       "       PhotoAmt AdoptionSpeed  \n",
       "0           1.0             2  \n",
       "1           2.0             0  \n",
       "2           7.0             3  \n",
       "3           8.0             2  \n",
       "4           3.0             2  \n",
       "...         ...           ...  \n",
       "14988       3.0             2  \n",
       "14989       3.0             4  \n",
       "14990       5.0             3  \n",
       "14991       3.0             4  \n",
       "14992       1.0             3  \n",
       "\n",
       "[14993 rows x 22 columns]"
      ]
     },
     "execution_count": 128,
     "metadata": {},
     "output_type": "execute_result"
    }
   ],
   "source": [
    "# recarregar de novo o dataset e converte-lo\n",
    "task_df = pd.read_csv(\"PetFinder_dataset.csv\")\n",
    "\n",
    "# remover colunas desnecessárias\n",
    "del task_df['RescuerID']\n",
    "del task_df['PetID']\n",
    "\n",
    "task_df\n"
   ]
  },
  {
   "cell_type": "markdown",
   "metadata": {},
   "source": [
    "Como foi observado na secção **Análise Exploratória - Nome**, existe uma clara diferenciação entre os animais sem nome e os animais com nome e, como tal, a coluna **Nome** será alterada para apenas indicar se o animal possui nome ou não."
   ]
  },
  {
   "cell_type": "code",
   "execution_count": 129,
   "metadata": {},
   "outputs": [
    {
     "data": {
      "text/plain": [
       "0        1\n",
       "1        0\n",
       "2        1\n",
       "3        1\n",
       "4        1\n",
       "        ..\n",
       "14988    1\n",
       "14989    1\n",
       "14990    1\n",
       "14991    1\n",
       "14992    1\n",
       "Name: Name, Length: 14993, dtype: int64"
      ]
     },
     "execution_count": 129,
     "metadata": {},
     "output_type": "execute_result"
    }
   ],
   "source": [
    "unnamed_list = {'No name', 'Unnamed', 'No Name Yet'}\n",
    "\n",
    "# assinala o valor 0 a todos os animais sem nome\n",
    "for unnamed in unnamed_list:\n",
    "    task_df.loc[task_df['Name'] == unnamed, 'Name'] = 0\n",
    "\n",
    "# assinala o valor 1 a todos os animais que não têm 0 no nome\n",
    "task_df.loc[task_df['Name'] != 0, 'Name'] = 1\n",
    "\n",
    "task_df['Name']"
   ]
  },
  {
   "cell_type": "markdown",
   "metadata": {},
   "source": [
    "Conforme também foi observado na secção **Análise Exploratória - Idade**, iremos criar uma nova coluna chamada de AgeGroup, que irá dividir os animais de forma equilibrada, tendo em conta a sua idade"
   ]
  },
  {
   "cell_type": "code",
   "execution_count": 130,
   "metadata": {},
   "outputs": [
    {
     "data": {
      "text/plain": [
       "0    5986\n",
       "2    4259\n",
       "3    2782\n",
       "1    1966\n",
       "Name: AgeGroup, dtype: int64"
      ]
     },
     "execution_count": 130,
     "metadata": {},
     "output_type": "execute_result"
    }
   ],
   "source": [
    "task_df['AgeGroup'] = pd.qcut(task_df['Age'],q=4,labels=[0,1,2,3])\n",
    "task_df['AgeGroup'].value_counts()\n",
    "#task_df.loc[age_df['Age'] <= 2, 'AgeGroup'] = '0'\n",
    "#task_df.loc[(age_df['Age'] > 2) & (age_df['Age'] <= 5), 'AgeGroup'] = '1'\n",
    "#task_df.loc[(age_df['Age'] >= 6) & (age_df['Age'] <= 12), 'AgeGroup'] = '2'\n",
    "#task_df.loc[df['Age'] > 12, 'AgeGroup'] = '3'"
   ]
  },
  {
   "cell_type": "markdown",
   "metadata": {},
   "source": [
    "Quanto à coluna **Breed**, foi observado que, tal como no campo Name, existem várias denominações para as raças não-puras."
   ]
  },
  {
   "cell_type": "code",
   "execution_count": 131,
   "metadata": {},
   "outputs": [],
   "source": [
    "# lista de raças que podem ser generalizadas como raças \"rafeiras\"\n",
    "mixed_breeds = [307, 266, 265, 299, 264]\n",
    "\n",
    "task_df['PureBreed'] = 1\n",
    "task_df.loc[(task_df['Breed2'] != 0) & (np.isin(task_df['Breed1'],mixed_breeds)), 'PureBreed'] = 0"
   ]
  },
  {
   "cell_type": "markdown",
   "metadata": {},
   "source": [
    "Para além da generalização das raças rafeiras, será também necessário traduzir os IDs das raças para os nomes das mesmas."
   ]
  },
  {
   "cell_type": "code",
   "execution_count": 132,
   "metadata": {
    "scrolled": true
   },
   "outputs": [],
   "source": [
    "# carrega a tabela com a relação ID-nome\n",
    "#breed_df, breed_X, breed_y, breed_features, breed_target = load_data(\"breed_labels.csv\")\n",
    "\n",
    "#task_df.merge(                                                   \n",
    "#    breed_df, \n",
    "#    how='inner',\n",
    "#    suffixes=('Breed1', 'BreedName'),\n",
    "#)\n",
    "\n",
    "#print(task_df)"
   ]
  },
  {
   "cell_type": "markdown",
   "metadata": {},
   "source": [
    "Relativamente à coluna **Age**, vamos explorar os registos que pertencem às maiores combinações de cores."
   ]
  },
  {
   "cell_type": "code",
   "execution_count": 133,
   "metadata": {},
   "outputs": [
    {
     "name": "stdout",
     "output_type": "stream",
     "text": [
      "\n"
     ]
    }
   ],
   "source": [
    "#Partição de pertença às combinações mais representativas de cores\n",
    "task_df['HasPrincipalColors'] = 0\n",
    "principal_combinations = ['1-7-0','1-2-0','2-7-0','1-0-0','1-2-7','2-0-0']\n",
    "task_df.loc[color_df['FullColor'].apply(lambda x : x in principal_combinations), 'HasPrincipalColors'] = 1\n",
    "print('')"
   ]
  },
  {
   "cell_type": "markdown",
   "metadata": {},
   "source": [
    "É também efetuada uma partição da coluna **Quantity** em registos que representam um animal e registos que representam mais que um animal."
   ]
  },
  {
   "cell_type": "code",
   "execution_count": 134,
   "metadata": {},
   "outputs": [],
   "source": [
    "#Partição entre registos com um animal (1) ou mais (0)\n",
    "task_df['SimpleQuantity'] = 1\n",
    "task_df.loc[task_df['Quantity'].apply(lambda x : x != 1), 'SimpleQuantity'] = 0"
   ]
  },
  {
   "cell_type": "markdown",
   "metadata": {},
   "source": [
    "É definida uma feature que analisa se a *fee* de adopção é gratuita ou se tem valor associado."
   ]
  },
  {
   "cell_type": "code",
   "execution_count": 135,
   "metadata": {},
   "outputs": [],
   "source": [
    "#Partição entre registos sem valor de adoção (1) ou pagos (0)\n",
    "task_df['FreeAdoption'] = 1\n",
    "task_df.loc[task_df['Fee'].apply(lambda x : x > 0), 'FreeAdoption'] = 0"
   ]
  },
  {
   "cell_type": "markdown",
   "metadata": {},
   "source": [
    "A coluna DescriptionPartial, formada a partir da feature **Description** analisa os tamanhos da descrição e categoriza-os."
   ]
  },
  {
   "cell_type": "code",
   "execution_count": 136,
   "metadata": {},
   "outputs": [],
   "source": [
    "#Partição de tamanho de descrição:\n",
    "#Descrição com 25 palavras ou menos ===> Small = 1\n",
    "#Descrição com 75 palavras ou menos, e mais de 25 palavras ===> Medium = 2\n",
    "#Descrição com mais de 75 palavras ===> Large = 3\n",
    "task_df['DescriptionPartial'] = 0\n",
    "task_df.loc[description_df['DescLength'].apply(lambda x : x <= 25.0), 'DescriptionPartial'] = 1\n",
    "task_df.loc[description_df['DescLength'].apply(lambda x : (x > 25.0) & (x <= 75.0)), 'DescriptionPartial'] = 2\n",
    "task_df.loc[description_df['DescLength'].apply(lambda x : x > 75.0), 'DescriptionPartial'] = 3"
   ]
  },
  {
   "cell_type": "markdown",
   "metadata": {},
   "source": [
    "Dada a análise da coluna **VideoAmt** e **PhotoAmt**, definem-se features que indicam se o registo tem vídeos associados ou não, e se o registo tem fotos associadas ou não."
   ]
  },
  {
   "cell_type": "code",
   "execution_count": 137,
   "metadata": {},
   "outputs": [],
   "source": [
    "# Partição se o registo tem videos associados (1) ou não (0)\n",
    "task_df.loc[task_df['VideoAmt'] == 0, 'HasVideo'] = 1\n",
    "task_df.loc[task_df['VideoAmt'] != 0, 'HasVideo'] = 0"
   ]
  },
  {
   "cell_type": "code",
   "execution_count": 138,
   "metadata": {},
   "outputs": [],
   "source": [
    "# Partição se o registo tem fotos associadas (1) ou não (0)\n",
    "task_df.loc[task_df['PhotoAmt'] == 0, 'HasPhoto'] = 1\n",
    "task_df.loc[task_df['PhotoAmt'] != 0, 'HasPhoto'] = 0"
   ]
  },
  {
   "cell_type": "markdown",
   "metadata": {},
   "source": [
    "Definição de um novo target: *Adoption*, uma target binária gerada a partir de AdoptionSpeed:\n",
    "* 1, se AdoptionSpeed <> 4 \n",
    "* 0, caso contrário"
   ]
  },
  {
   "cell_type": "code",
   "execution_count": 139,
   "metadata": {},
   "outputs": [],
   "source": [
    "task_df['Adoption'] = 1\n",
    "task_df.loc[task_df['AdoptionSpeed'] == 4, 'Adoption'] = 0"
   ]
  },
  {
   "cell_type": "code",
   "execution_count": 140,
   "metadata": {
    "scrolled": true
   },
   "outputs": [],
   "source": [
    "#Lista original de colunas ordenadas\n",
    "#task_df = task_df[['Type','Name','Age','AgeGroup','Breed1','Breed2','PureBreed','Gender', \\\n",
    "#                   'Color1','Color2','Color3','HasPrincipalColors', \\\n",
    "#                   'MaturitySize','FurLength','Vaccinated','Dewormed','Sterilized','Health', \\\n",
    "#                   'Quantity','SimpleQuantity','Fee','FreeAdoption', \\\n",
    "#                   'State','VideoAmt','HasVideo','PhotoAmt','HasPhoto', \\\n",
    "#                   'Description','DescriptionPartial','AdoptionSpeed']]\n",
    "\n",
    "task_df = task_df[['Type','Name','AgeGroup','PureBreed', \\\n",
    "                   'Gender','HasPrincipalColors', 'MaturitySize','FurLength',\\\n",
    "                   'Vaccinated','Dewormed','Sterilized','Health', \\\n",
    "                   'SimpleQuantity','FreeAdoption', \\\n",
    "                   'State','HasVideo','HasPhoto', 'DescriptionPartial', \\\n",
    "                   'Adoption']]\n"
   ]
  },
  {
   "cell_type": "code",
   "execution_count": 141,
   "metadata": {},
   "outputs": [],
   "source": [
    "def load_data(dfname):\n",
    "    \"\"\"Load CSV file with any number of consecutive features, starting in column 0, where last column is the class\"\"\"\n",
    "    nc = dfname.shape[1] # number of columns\n",
    "    matrix = dfname.values # Convert dataframe to darray\n",
    "    table_X = matrix [:, 0:nc-1] # get features ignoring adoption speed\n",
    "    table_y = matrix [:, nc-1] # get class (last columns)           \n",
    "    features = dfname.columns.values[0:nc-1] #get features names\n",
    "    target = dfname.columns.values[nc-1] #get target name\n",
    "    return table_X, table_y, features, target\n",
    "\n",
    "table_X, table_y, features, target = load_data(task_df)"
   ]
  },
  {
   "cell_type": "markdown",
   "metadata": {},
   "source": [
    "**Oversampling**"
   ]
  },
  {
   "cell_type": "code",
   "execution_count": 142,
   "metadata": {},
   "outputs": [],
   "source": [
    "# TO DO"
   ]
  },
  {
   "cell_type": "markdown",
   "metadata": {},
   "source": [
    "**Feature Selection com Random Forest**"
   ]
  },
  {
   "cell_type": "markdown",
   "metadata": {},
   "source": [
    "O aspeto 'feature_importances' que os classificadores Random Forest têm permite identificar quais são as features que mais impacto têm para a classificação das várias Decision Trees que são criadas no processo de fitting."
   ]
  },
  {
   "cell_type": "code",
   "execution_count": 165,
   "metadata": {},
   "outputs": [
    {
     "name": "stderr",
     "output_type": "stream",
     "text": [
      "C:\\Users\\valei\\Anaconda3\\lib\\site-packages\\sklearn\\ensemble\\forest.py:245: FutureWarning: The default value of n_estimators will change from 10 in version 0.20 to 100 in 0.22.\n",
      "  \"10 in version 0.20 to 100 in 0.22.\", FutureWarning)\n"
     ]
    },
    {
     "data": {
      "text/html": [
       "<div>\n",
       "<style scoped>\n",
       "    .dataframe tbody tr th:only-of-type {\n",
       "        vertical-align: middle;\n",
       "    }\n",
       "\n",
       "    .dataframe tbody tr th {\n",
       "        vertical-align: top;\n",
       "    }\n",
       "\n",
       "    .dataframe thead th {\n",
       "        text-align: right;\n",
       "    }\n",
       "</style>\n",
       "<table border=\"1\" class=\"dataframe\">\n",
       "  <thead>\n",
       "    <tr style=\"text-align: right;\">\n",
       "      <th></th>\n",
       "      <th>column</th>\n",
       "      <th>importance</th>\n",
       "    </tr>\n",
       "  </thead>\n",
       "  <tbody>\n",
       "    <tr>\n",
       "      <th>0</th>\n",
       "      <td>State</td>\n",
       "      <td>0.128672</td>\n",
       "    </tr>\n",
       "    <tr>\n",
       "      <th>1</th>\n",
       "      <td>AgeGroup</td>\n",
       "      <td>0.112694</td>\n",
       "    </tr>\n",
       "    <tr>\n",
       "      <th>2</th>\n",
       "      <td>DescriptionPartial</td>\n",
       "      <td>0.109784</td>\n",
       "    </tr>\n",
       "    <tr>\n",
       "      <th>3</th>\n",
       "      <td>FurLength</td>\n",
       "      <td>0.072609</td>\n",
       "    </tr>\n",
       "    <tr>\n",
       "      <th>4</th>\n",
       "      <td>Gender</td>\n",
       "      <td>0.070094</td>\n",
       "    </tr>\n",
       "    <tr>\n",
       "      <th>5</th>\n",
       "      <td>MaturitySize</td>\n",
       "      <td>0.067268</td>\n",
       "    </tr>\n",
       "    <tr>\n",
       "      <th>6</th>\n",
       "      <td>Sterilized</td>\n",
       "      <td>0.057760</td>\n",
       "    </tr>\n",
       "    <tr>\n",
       "      <th>7</th>\n",
       "      <td>HasPrincipalColors</td>\n",
       "      <td>0.056881</td>\n",
       "    </tr>\n",
       "    <tr>\n",
       "      <th>8</th>\n",
       "      <td>Dewormed</td>\n",
       "      <td>0.055386</td>\n",
       "    </tr>\n",
       "    <tr>\n",
       "      <th>9</th>\n",
       "      <td>Vaccinated</td>\n",
       "      <td>0.053236</td>\n",
       "    </tr>\n",
       "    <tr>\n",
       "      <th>10</th>\n",
       "      <td>PureBreed</td>\n",
       "      <td>0.045495</td>\n",
       "    </tr>\n",
       "    <tr>\n",
       "      <th>11</th>\n",
       "      <td>Type</td>\n",
       "      <td>0.044563</td>\n",
       "    </tr>\n",
       "    <tr>\n",
       "      <th>12</th>\n",
       "      <td>FreeAdoption</td>\n",
       "      <td>0.044140</td>\n",
       "    </tr>\n",
       "    <tr>\n",
       "      <th>13</th>\n",
       "      <td>SimpleQuantity</td>\n",
       "      <td>0.025178</td>\n",
       "    </tr>\n",
       "    <tr>\n",
       "      <th>14</th>\n",
       "      <td>Health</td>\n",
       "      <td>0.019716</td>\n",
       "    </tr>\n",
       "    <tr>\n",
       "      <th>15</th>\n",
       "      <td>HasPhoto</td>\n",
       "      <td>0.018634</td>\n",
       "    </tr>\n",
       "    <tr>\n",
       "      <th>16</th>\n",
       "      <td>HasVideo</td>\n",
       "      <td>0.017075</td>\n",
       "    </tr>\n",
       "    <tr>\n",
       "      <th>17</th>\n",
       "      <td>Name</td>\n",
       "      <td>0.000813</td>\n",
       "    </tr>\n",
       "  </tbody>\n",
       "</table>\n",
       "</div>"
      ],
      "text/plain": [
       "                column  importance\n",
       "0                State    0.128672\n",
       "1             AgeGroup    0.112694\n",
       "2   DescriptionPartial    0.109784\n",
       "3            FurLength    0.072609\n",
       "4               Gender    0.070094\n",
       "5         MaturitySize    0.067268\n",
       "6           Sterilized    0.057760\n",
       "7   HasPrincipalColors    0.056881\n",
       "8             Dewormed    0.055386\n",
       "9           Vaccinated    0.053236\n",
       "10           PureBreed    0.045495\n",
       "11                Type    0.044563\n",
       "12        FreeAdoption    0.044140\n",
       "13      SimpleQuantity    0.025178\n",
       "14              Health    0.019716\n",
       "15            HasPhoto    0.018634\n",
       "16            HasVideo    0.017075\n",
       "17                Name    0.000813"
      ]
     },
     "execution_count": 165,
     "metadata": {},
     "output_type": "execute_result"
    }
   ],
   "source": [
    "from sklearn.model_selection import train_test_split\n",
    "from sklearn.ensemble import RandomForestClassifier \n",
    "\n",
    "#https://towardsdatascience.com/running-random-forests-inspect-the-feature-importances-with-this-code-2b00dd72b92e \n",
    "def random_forest(table_X, table_y, test_size):\n",
    "    table_X = table_X.astype(float)\n",
    "    table_y = table_y.astype(float)\n",
    "    X_train, X_test, y_train, y_test = train_test_split(table_X, table_y, test_size=test_size, random_state=42)\n",
    "    rf = RandomForestClassifier() \n",
    "    rf.fit(X_train, y_train) \n",
    "    score = rf.score(X_test, y_test)\n",
    "    feature_importances = pd.DataFrame(rf.feature_importances_, index = table_X.columns, columns=['importance']).sort_values('importance',ascending=False).reset_index().rename(columns = {'index':'column'})\n",
    "    return rf, table_X, table_y, score, feature_importances\n",
    "\n",
    "#Defining the random forest model\n",
    "df_x = pd.DataFrame(data=table_X, columns=features)\n",
    "df_y = pd.DataFrame(data=table_y, columns=['Adoption'])\n",
    "\n",
    "rf, table_X, table_y, score, feature_importances = random_forest(df_x, df_y, 0.2)\n",
    "feature_importances"
   ]
  },
  {
   "cell_type": "markdown",
   "metadata": {},
   "source": [
    "Como é possível verificar pelo plot, as features com mais impacto sobre as predictions do Random Forest são o State, DescriptionPartial, AgeGroup, entre outras. No entanto, são estas três que mais se destacam."
   ]
  },
  {
   "cell_type": "code",
   "execution_count": 144,
   "metadata": {},
   "outputs": [
    {
     "name": "stdout",
     "output_type": "stream",
     "text": [
      "['State' 'AgeGroup' 'DescriptionPartial' 'MaturitySize' 'FurLength'\n",
      " 'Gender' 'Sterilized' 'HasPrincipalColors' 'Dewormed' 'FreeAdoption'\n",
      " 'Type' 'PureBreed' 'Vaccinated' 'SimpleQuantity' 'HasPhoto' 'Health'\n",
      " 'HasVideo' 'Name']\n",
      "[0.1348205  0.1198145  0.10058457 0.07609076 0.07535705 0.0736847\n",
      " 0.06543827 0.05321592 0.04821744 0.04599889 0.04497968 0.04195358\n",
      " 0.03860815 0.02707435 0.01889956 0.01853691 0.01623463 0.00049056]\n"
     ]
    },
    {
     "data": {
      "text/plain": [
       "<BarContainer object of 18 artists>"
      ]
     },
     "execution_count": 144,
     "metadata": {},
     "output_type": "execute_result"
    },
    {
     "data": {
      "image/png": "[encoded data removed]",
      "text/plain": [
       "<Figure size 432x288 with 1 Axes>"
      ]
     },
     "metadata": {
      "needs_background": "light"
     },
     "output_type": "display_data"
    }
   ],
   "source": [
    "y_axis = feature_importances.column.values\n",
    "print(y_axis)\n",
    "x_axis = feature_importances.importance.values\n",
    "print(x_axis)\n",
    "plt.barh(y_axis, x_axis)"
   ]
  },
  {
   "cell_type": "markdown",
   "metadata": {},
   "source": [
    "## 1.2. Learning Classifiers"
   ]
  },
  {
   "cell_type": "markdown",
   "metadata": {},
   "source": [
    "### **1.2.1 | Tree Models - Random Forest**"
   ]
  },
  {
   "cell_type": "code",
   "execution_count": 171,
   "metadata": {},
   "outputs": [
    {
     "name": "stdout",
     "output_type": "stream",
     "text": [
      "Cross Validation Scores with Random Forest, No Selection:\n",
      "--------------------------\n",
      "[0.71088435 0.71268507 0.70542325]\n",
      "Mean 3-Fold accuracy: 0.7096642272411599\n",
      "-----------\n",
      "[0.711      0.69856619 0.7078052  0.70613742 0.69813209]\n",
      "Mean 5-Fold accuracy: 0.7043281810414457\n",
      "-----------\n",
      "[0.71021932 0.70835278 0.70961718 0.70028011 0.71788884 0.72115834\n",
      " 0.70808034]\n",
      "Mean 7-Fold accuracy: 0.7107995568504278\n",
      "-----------\n",
      "[0.71866667 0.69933333 0.72266667 0.704      0.71333333 0.704\n",
      " 0.69046031 0.69626168 0.71094793 0.72029372]\n",
      "Mean 10-Fold accuracy: 0.707996364465496\n",
      "-----------\n",
      "Cross Validation Scores with Random Forest, Feature Selection:\n",
      "-----------[Selecting features with Importance > 0.05]-----------\n",
      "[0.69927971 0.70108043 0.69281569]\n",
      "Mean 3-Fold accuracy: 0.6977252778237572\n",
      "-----------\n",
      "[0.71133333 0.70956986 0.7018012  0.70046698 0.70213476]\n",
      "Mean 5-Fold accuracy: 0.7050612250484799\n",
      "-----------\n",
      "[0.70228651 0.70975268 0.70074697 0.70961718 0.70340962 0.70901448\n",
      " 0.70527791]\n",
      "Mean 7-Fold accuracy: 0.70572933592177\n",
      "-----------\n",
      "[0.712      0.7        0.70066667 0.71533333 0.71       0.70866667\n",
      " 0.7078052  0.69826435 0.70894526 0.70694259]\n",
      "Mean 10-Fold accuracy: 0.7068624073072896\n",
      "-----------\n"
     ]
    }
   ],
   "source": [
    "#https://machinelearningmastery.com/k-fold-cross-validation/\n",
    "#https://towardsdatascience.com/why-and-how-to-cross-validate-a-model-d6424b45261f\n",
    "from sklearn.model_selection import KFold # import KFold\n",
    "from sklearn.model_selection import cross_val_score, cross_val_predict\n",
    "import warnings\n",
    "from sklearn.exceptions import DataConversionWarning\n",
    "warnings.filterwarnings(action='ignore', category=DataConversionWarning)\n",
    "\n",
    "n_folds = [3, 5, 7, 10]\n",
    "metrics = ['accuracy']\n",
    "\n",
    "print('Cross Validation Scores with Random Forest, No Selection:\\n--------------------------')\n",
    "for n in n_folds:\n",
    "    for m in metrics:\n",
    "        cv_scores_rf = cross_val_score(rf, table_X, table_y, cv=n,scoring=m)\n",
    "        print(cv_scores_rf)\n",
    "        print(\"Mean {}-Fold {}: {}\".format(n,m,np.mean(cv_scores_rf)))\n",
    "        print(\"-----------\")\n",
    "        \n",
    "print('Cross Validation Scores with Random Forest, Feature Selection:')\n",
    "print('-----------[Selecting features with Importance > 0.05]-----------')\n",
    "table_X_imp = table_X.copy()\n",
    "importances_edit = feature_importances.copy()\n",
    "importances_edit = importances_edit[importances_edit.importance > 0.05]\n",
    "task_important_features = task_df[importances_edit.column.values]\n",
    "task_important_features = task_important_features.astype(float)\n",
    "for n in n_folds:\n",
    "    for m in metrics:\n",
    "        cv_scores_rf = cross_val_score(rf, task_important_features, table_y, cv=n,scoring=m)\n",
    "        print(cv_scores_rf)\n",
    "        print(\"Mean {}-Fold {}: {}\".format(n,m,np.mean(cv_scores_rf)))\n",
    "        print(\"-----------\")"
   ]
  },
  {
   "cell_type": "markdown",
   "metadata": {},
   "source": [
    "## 1.3. Classification - Results and Discussion "
   ]
  },
  {
   "cell_type": "markdown",
   "metadata": {},
   "source": [
    "..."
   ]
  },
  {
   "cell_type": "markdown",
   "metadata": {},
   "source": [
    "## Task 2 (Unsupervised Learning) - Charactering Adopted Pets and Adoption Speed"
   ]
  },
  {
   "cell_type": "markdown",
   "metadata": {},
   "source": [
    "In this task you should **use unsupervised learning algorithms and try to characterize pets that were actually adopted and their adoption speed**. You can use:\n",
    "* **Association rule mining** to find **associations between the features and the target Adoption/AdoptionSpeed**.\n",
    "* **Clustering algorithms to find similar groups of pets**. Is it possible to find groups of pets with the same/similar adoption speed.\n",
    "* **Be creative and define your own unsupervised analysis!** What would it be interesting to find out ?"
   ]
  },
  {
   "cell_type": "markdown",
   "metadata": {},
   "source": [
    "## 2.1. Preprocessing Data for Association Rule Mining"
   ]
  },
  {
   "cell_type": "markdown",
   "metadata": {},
   "source": [
    "..."
   ]
  },
  {
   "cell_type": "markdown",
   "metadata": {},
   "source": [
    "## 2.2. Finding Associations"
   ]
  },
  {
   "cell_type": "markdown",
   "metadata": {},
   "source": [
    "..."
   ]
  },
  {
   "cell_type": "markdown",
   "metadata": {},
   "source": [
    "## 2.3 Association Rules - Results and Discussion "
   ]
  },
  {
   "cell_type": "markdown",
   "metadata": {},
   "source": [
    "..."
   ]
  },
  {
   "cell_type": "markdown",
   "metadata": {},
   "source": [
    "## 2.4. Preprocessing Data for Clustering"
   ]
  },
  {
   "cell_type": "markdown",
   "metadata": {},
   "source": [
    "..."
   ]
  },
  {
   "cell_type": "markdown",
   "metadata": {
    "collapsed": true
   },
   "source": [
    "## 2.5. Finding Groups"
   ]
  },
  {
   "cell_type": "markdown",
   "metadata": {},
   "source": [
    "..."
   ]
  },
  {
   "cell_type": "markdown",
   "metadata": {},
   "source": [
    "## 2.6. Clustering - Results and Discussion "
   ]
  },
  {
   "cell_type": "markdown",
   "metadata": {},
   "source": [
    "..."
   ]
  },
  {
   "cell_type": "markdown",
   "metadata": {},
   "source": [
    "## 3. Final Comments and Conclusions"
   ]
  },
  {
   "cell_type": "markdown",
   "metadata": {},
   "source": [
    "..."
   ]
  }
 ],
 "metadata": {
  "kernelspec": {
   "display_name": "Python 3",
   "language": "python",
   "name": "python3"
  },
  "language_info": {
   "codemirror_mode": {
    "name": "ipython",
    "version": 3
   },
   "file_extension": ".py",
   "mimetype": "text/x-python",
   "name": "python",
   "nbconvert_exporter": "python",
   "pygments_lexer": "ipython3",
   "version": "3.7.5"
  }
 },
 "nbformat": 4,
 "nbformat_minor": 2
}
